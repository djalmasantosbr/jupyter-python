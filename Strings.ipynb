{
 "cells": [
  {
   "cell_type": "markdown",
   "id": "935fb25f-f8eb-437b-a7ad-fb8963eccf7c",
   "metadata": {},
   "source": [
    "## Strings"
   ]
  },
  {
   "cell_type": "code",
   "execution_count": 1,
   "id": "6bf355ca-873c-4976-9194-fdd07275e63c",
   "metadata": {
    "tags": []
   },
   "outputs": [],
   "source": [
    "minha_string = \"hello\""
   ]
  },
  {
   "cell_type": "code",
   "execution_count": 2,
   "id": "af0ee693-e1af-4f11-9633-659498fc939d",
   "metadata": {
    "tags": []
   },
   "outputs": [
    {
     "data": {
      "text/plain": [
       "'hello'"
      ]
     },
     "execution_count": 2,
     "metadata": {},
     "output_type": "execute_result"
    }
   ],
   "source": [
    "minha_string"
   ]
  },
  {
   "cell_type": "code",
   "execution_count": 3,
   "id": "a95fdd55-e19c-4573-b1ef-e686daaa6677",
   "metadata": {
    "tags": []
   },
   "outputs": [],
   "source": [
    "minha_string2 = \"isto é uma string\""
   ]
  },
  {
   "cell_type": "code",
   "execution_count": 4,
   "id": "2a4d2630-2faf-43ca-971b-e732e6e470ae",
   "metadata": {
    "tags": []
   },
   "outputs": [
    {
     "data": {
      "text/plain": [
       "'isto é uma string'"
      ]
     },
     "execution_count": 4,
     "metadata": {},
     "output_type": "execute_result"
    }
   ],
   "source": [
    "minha_string2"
   ]
  },
  {
   "cell_type": "code",
   "execution_count": 5,
   "id": "906dc0a3-ef2f-4b64-8481-fe4c09a078f3",
   "metadata": {
    "tags": []
   },
   "outputs": [],
   "source": [
    "minha_string3 = 'isto é uma \"aspas\" string'"
   ]
  },
  {
   "cell_type": "code",
   "execution_count": 6,
   "id": "fbe5c8fc-32c2-491f-96de-040ab622fb5f",
   "metadata": {
    "tags": []
   },
   "outputs": [
    {
     "data": {
      "text/plain": [
       "'isto é uma \"aspas\" string'"
      ]
     },
     "execution_count": 6,
     "metadata": {},
     "output_type": "execute_result"
    }
   ],
   "source": [
    "minha_string3"
   ]
  },
  {
   "cell_type": "code",
   "execution_count": 7,
   "id": "5aff14aa-bbe3-41a3-8dd0-fac9ee01a3c5",
   "metadata": {
    "tags": []
   },
   "outputs": [
    {
     "name": "stdout",
     "output_type": "stream",
     "text": [
      "isto é uma \"aspas\" string\n"
     ]
    }
   ],
   "source": [
    "print(minha_string3)"
   ]
  },
  {
   "cell_type": "code",
   "execution_count": 8,
   "id": "2c378cdc-ec56-4ffa-bc97-0f9df8dae3b1",
   "metadata": {
    "tags": []
   },
   "outputs": [
    {
     "data": {
      "text/plain": [
       "17"
      ]
     },
     "execution_count": 8,
     "metadata": {},
     "output_type": "execute_result"
    }
   ],
   "source": [
    "len(minha_string2)"
   ]
  },
  {
   "cell_type": "code",
   "execution_count": 9,
   "id": "7a7dc228-a956-40f1-b40e-e877bdb326ec",
   "metadata": {
    "tags": []
   },
   "outputs": [
    {
     "data": {
      "text/plain": [
       "'isto é uma string'"
      ]
     },
     "execution_count": 9,
     "metadata": {},
     "output_type": "execute_result"
    }
   ],
   "source": [
    "minha_string2"
   ]
  },
  {
   "cell_type": "code",
   "execution_count": 10,
   "id": "a30145cb-31eb-4f6f-8664-849b65a365dc",
   "metadata": {
    "tags": []
   },
   "outputs": [
    {
     "data": {
      "text/plain": [
       "'isto é uma stringhello'"
      ]
     },
     "execution_count": 10,
     "metadata": {},
     "output_type": "execute_result"
    }
   ],
   "source": [
    "minha_string2 + minha_string"
   ]
  },
  {
   "cell_type": "code",
   "execution_count": 12,
   "id": "9e66eeef-ba1c-468c-b21c-a8195e250133",
   "metadata": {
    "tags": []
   },
   "outputs": [
    {
     "data": {
      "text/plain": [
       "'isto é uma string Djalma Santos hello'"
      ]
     },
     "execution_count": 12,
     "metadata": {},
     "output_type": "execute_result"
    }
   ],
   "source": [
    "minha_string2 + \" Djalma Santos \" + minha_string"
   ]
  },
  {
   "cell_type": "code",
   "execution_count": 14,
   "id": "52ad44ce-d802-4b54-af25-b5b61af3ec76",
   "metadata": {
    "tags": []
   },
   "outputs": [
    {
     "data": {
      "text/plain": [
       "'l'"
      ]
     },
     "execution_count": 14,
     "metadata": {},
     "output_type": "execute_result"
    }
   ],
   "source": [
    "minha_string[2]"
   ]
  },
  {
   "cell_type": "code",
   "execution_count": 15,
   "id": "a2402525-c1d0-4f11-ba92-ef6f30e2bee7",
   "metadata": {
    "tags": []
   },
   "outputs": [
    {
     "data": {
      "text/plain": [
       "'ell'"
      ]
     },
     "execution_count": 15,
     "metadata": {},
     "output_type": "execute_result"
    }
   ],
   "source": [
    "minha_string[1:4]"
   ]
  },
  {
   "cell_type": "code",
   "execution_count": 16,
   "id": "5fff159e-cb6f-471f-a97e-617dcc9adf4f",
   "metadata": {
    "tags": []
   },
   "outputs": [
    {
     "data": {
      "text/plain": [
       "'ello'"
      ]
     },
     "execution_count": 16,
     "metadata": {},
     "output_type": "execute_result"
    }
   ],
   "source": [
    "minha_string[1:]"
   ]
  },
  {
   "cell_type": "code",
   "execution_count": 17,
   "id": "54a2d56a-aff1-4b85-abcc-027f8cd3c455",
   "metadata": {
    "tags": []
   },
   "outputs": [
    {
     "data": {
      "text/plain": [
       "'hello'"
      ]
     },
     "execution_count": 17,
     "metadata": {},
     "output_type": "execute_result"
    }
   ],
   "source": [
    "minha_string"
   ]
  },
  {
   "cell_type": "code",
   "execution_count": 18,
   "id": "de725408-27fe-42a9-86ea-23052248fe74",
   "metadata": {
    "tags": []
   },
   "outputs": [
    {
     "data": {
      "text/plain": [
       "'h'"
      ]
     },
     "execution_count": 18,
     "metadata": {},
     "output_type": "execute_result"
    }
   ],
   "source": [
    "minha_string[-5]"
   ]
  },
  {
   "cell_type": "code",
   "execution_count": 19,
   "id": "5ac22972-468a-4836-a429-41257075d4a4",
   "metadata": {
    "tags": []
   },
   "outputs": [
    {
     "data": {
      "text/plain": [
       "'o'"
      ]
     },
     "execution_count": 19,
     "metadata": {},
     "output_type": "execute_result"
    }
   ],
   "source": [
    "minha_string[-1]"
   ]
  },
  {
   "cell_type": "code",
   "execution_count": 20,
   "id": "7f1af240-8a6c-4e7b-9a9c-2efa6c0c6b3e",
   "metadata": {
    "tags": []
   },
   "outputs": [
    {
     "data": {
      "text/plain": [
       "'hell'"
      ]
     },
     "execution_count": 20,
     "metadata": {},
     "output_type": "execute_result"
    }
   ],
   "source": [
    "minha_string[:-1]"
   ]
  },
  {
   "cell_type": "code",
   "execution_count": 21,
   "id": "cf36e4e7-b489-4826-a6ad-e4432b0027ff",
   "metadata": {
    "tags": []
   },
   "outputs": [
    {
     "data": {
      "text/plain": [
       "'hlo'"
      ]
     },
     "execution_count": 21,
     "metadata": {},
     "output_type": "execute_result"
    }
   ],
   "source": [
    "minha_string[::2]"
   ]
  },
  {
   "cell_type": "code",
   "execution_count": 22,
   "id": "ae649aff-5b8f-4c93-8434-0d5aa20f5158",
   "metadata": {
    "tags": []
   },
   "outputs": [
    {
     "data": {
      "text/plain": [
       "'olleh'"
      ]
     },
     "execution_count": 22,
     "metadata": {},
     "output_type": "execute_result"
    }
   ],
   "source": [
    "minha_string[::-1]"
   ]
  },
  {
   "cell_type": "markdown",
   "id": "7a05a5ae-0e30-4a06-949c-e5e35678a120",
   "metadata": {},
   "source": [
    "## Propriedades das Strings"
   ]
  },
  {
   "cell_type": "code",
   "execution_count": 24,
   "id": "6c4b5359-2de0-4ca1-970c-9fcd58515bc9",
   "metadata": {
    "tags": []
   },
   "outputs": [
    {
     "data": {
      "text/plain": [
       "'hello'"
      ]
     },
     "execution_count": 24,
     "metadata": {},
     "output_type": "execute_result"
    }
   ],
   "source": [
    "minha_string"
   ]
  },
  {
   "cell_type": "code",
   "execution_count": 25,
   "id": "4b534954-7a2f-4721-8c90-603b805fb182",
   "metadata": {
    "tags": []
   },
   "outputs": [
    {
     "data": {
      "text/plain": [
       "'aaaaaaaaaa'"
      ]
     },
     "execution_count": 25,
     "metadata": {},
     "output_type": "execute_result"
    }
   ],
   "source": [
    "\"a\" * 10"
   ]
  },
  {
   "cell_type": "code",
   "execution_count": 26,
   "id": "aaa67ff2-9e06-4f84-9508-909b9aa92947",
   "metadata": {
    "tags": []
   },
   "outputs": [
    {
     "data": {
      "text/plain": [
       "str"
      ]
     },
     "execution_count": 26,
     "metadata": {},
     "output_type": "execute_result"
    }
   ],
   "source": [
    "type('a')"
   ]
  },
  {
   "cell_type": "code",
   "execution_count": 27,
   "id": "b2312c6a-892d-4489-b253-fc9fb9fa01c9",
   "metadata": {
    "tags": []
   },
   "outputs": [
    {
     "data": {
      "text/plain": [
       "1"
      ]
     },
     "execution_count": 27,
     "metadata": {},
     "output_type": "execute_result"
    }
   ],
   "source": [
    "len(\"a\")"
   ]
  },
  {
   "cell_type": "code",
   "execution_count": 28,
   "id": "6df74f0a-f22c-4300-8470-071258cdf4dd",
   "metadata": {
    "tags": []
   },
   "outputs": [
    {
     "data": {
      "text/plain": [
       "['__add__',\n",
       " '__class__',\n",
       " '__contains__',\n",
       " '__delattr__',\n",
       " '__dir__',\n",
       " '__doc__',\n",
       " '__eq__',\n",
       " '__format__',\n",
       " '__ge__',\n",
       " '__getattribute__',\n",
       " '__getitem__',\n",
       " '__getnewargs__',\n",
       " '__getstate__',\n",
       " '__gt__',\n",
       " '__hash__',\n",
       " '__init__',\n",
       " '__init_subclass__',\n",
       " '__iter__',\n",
       " '__le__',\n",
       " '__len__',\n",
       " '__lt__',\n",
       " '__mod__',\n",
       " '__mul__',\n",
       " '__ne__',\n",
       " '__new__',\n",
       " '__reduce__',\n",
       " '__reduce_ex__',\n",
       " '__repr__',\n",
       " '__rmod__',\n",
       " '__rmul__',\n",
       " '__setattr__',\n",
       " '__sizeof__',\n",
       " '__str__',\n",
       " '__subclasshook__',\n",
       " 'capitalize',\n",
       " 'casefold',\n",
       " 'center',\n",
       " 'count',\n",
       " 'encode',\n",
       " 'endswith',\n",
       " 'expandtabs',\n",
       " 'find',\n",
       " 'format',\n",
       " 'format_map',\n",
       " 'index',\n",
       " 'isalnum',\n",
       " 'isalpha',\n",
       " 'isascii',\n",
       " 'isdecimal',\n",
       " 'isdigit',\n",
       " 'isidentifier',\n",
       " 'islower',\n",
       " 'isnumeric',\n",
       " 'isprintable',\n",
       " 'isspace',\n",
       " 'istitle',\n",
       " 'isupper',\n",
       " 'join',\n",
       " 'ljust',\n",
       " 'lower',\n",
       " 'lstrip',\n",
       " 'maketrans',\n",
       " 'partition',\n",
       " 'removeprefix',\n",
       " 'removesuffix',\n",
       " 'replace',\n",
       " 'rfind',\n",
       " 'rindex',\n",
       " 'rjust',\n",
       " 'rpartition',\n",
       " 'rsplit',\n",
       " 'rstrip',\n",
       " 'split',\n",
       " 'splitlines',\n",
       " 'startswith',\n",
       " 'strip',\n",
       " 'swapcase',\n",
       " 'title',\n",
       " 'translate',\n",
       " 'upper',\n",
       " 'zfill']"
      ]
     },
     "execution_count": 28,
     "metadata": {},
     "output_type": "execute_result"
    }
   ],
   "source": [
    "dir(\"hello\")"
   ]
  },
  {
   "cell_type": "code",
   "execution_count": 29,
   "id": "869362b6-3d61-41e2-b913-efc3fe98239d",
   "metadata": {
    "tags": []
   },
   "outputs": [
    {
     "data": {
      "text/plain": [
       "'hello'"
      ]
     },
     "execution_count": 29,
     "metadata": {},
     "output_type": "execute_result"
    }
   ],
   "source": [
    "\"Hello\".lower()"
   ]
  },
  {
   "cell_type": "code",
   "execution_count": 30,
   "id": "19e7f572-994e-4ca9-9cc3-6ef767a6c9c8",
   "metadata": {
    "tags": []
   },
   "outputs": [
    {
     "data": {
      "text/plain": [
       "'HELLO'"
      ]
     },
     "execution_count": 30,
     "metadata": {},
     "output_type": "execute_result"
    }
   ],
   "source": [
    "\"hello\".upper()"
   ]
  },
  {
   "cell_type": "code",
   "execution_count": 31,
   "id": "3f2d812e-29eb-4359-a830-eb9381cb514d",
   "metadata": {
    "tags": []
   },
   "outputs": [
    {
     "data": {
      "text/plain": [
       "['Hello']"
      ]
     },
     "execution_count": 31,
     "metadata": {},
     "output_type": "execute_result"
    }
   ],
   "source": [
    "\"Hello\".split()"
   ]
  },
  {
   "cell_type": "code",
   "execution_count": 32,
   "id": "46b076c1-de7f-4b93-b3af-29fa0844d97b",
   "metadata": {
    "tags": []
   },
   "outputs": [
    {
     "data": {
      "text/plain": [
       "['Djalma', 'Lima', 'Barbosa', 'Santos']"
      ]
     },
     "execution_count": 32,
     "metadata": {},
     "output_type": "execute_result"
    }
   ],
   "source": [
    "\"Djalma Lima Barbosa Santos\".split()"
   ]
  },
  {
   "cell_type": "code",
   "execution_count": 33,
   "id": "f507906c-c0c7-46ea-88a1-2cb9b9e98011",
   "metadata": {
    "tags": []
   },
   "outputs": [
    {
     "data": {
      "text/plain": [
       "['hello', 'od', 'igo']"
      ]
     },
     "execution_count": 33,
     "metadata": {},
     "output_type": "execute_result"
    }
   ],
   "source": [
    "\"hellorodrigo\".split(\"r\")"
   ]
  },
  {
   "cell_type": "code",
   "execution_count": 34,
   "id": "35166315-71b4-4f35-848b-fd7c2bbb0110",
   "metadata": {
    "tags": []
   },
   "outputs": [
    {
     "data": {
      "text/plain": [
       "'Idade da pessoa é: 10'"
      ]
     },
     "execution_count": 34,
     "metadata": {},
     "output_type": "execute_result"
    }
   ],
   "source": [
    "idade = 10\n",
    "\"Idade da pessoa é: {}\".format(idade)"
   ]
  },
  {
   "cell_type": "code",
   "execution_count": 36,
   "id": "e777a585-d1a0-4c77-991e-6352ab854125",
   "metadata": {
    "tags": []
   },
   "outputs": [
    {
     "data": {
      "text/plain": [
       "'Idade da pessoa é: 10 e o nome é Djalma'"
      ]
     },
     "execution_count": 36,
     "metadata": {},
     "output_type": "execute_result"
    }
   ],
   "source": [
    "idade = 10\n",
    "nome = \"Djalma\"\n",
    "\"Idade da pessoa é: {} e o nome é {}\".format(idade, nome)"
   ]
  },
  {
   "cell_type": "code",
   "execution_count": 38,
   "id": "efa862e3-cd2b-4be6-a723-877b41b85066",
   "metadata": {
    "tags": []
   },
   "outputs": [
    {
     "data": {
      "text/plain": [
       "'Idade da pessoa é: Djalma e o nome é 10'"
      ]
     },
     "execution_count": 38,
     "metadata": {},
     "output_type": "execute_result"
    }
   ],
   "source": [
    "idade = 10\n",
    "nome = \"Djalma\"\n",
    "\"Idade da pessoa é: {a} e o nome é {b}\".format(b = idade, a = nome)"
   ]
  },
  {
   "cell_type": "code",
   "execution_count": 39,
   "id": "09a9f1d3-c7fc-4c76-99dc-18a701057e94",
   "metadata": {
    "tags": []
   },
   "outputs": [],
   "source": [
    "qstring = \"Ola, meu nome é joão.\""
   ]
  },
  {
   "cell_type": "code",
   "execution_count": 41,
   "id": "8e8a7ae5-1e07-41f9-83e6-c69272177504",
   "metadata": {
    "tags": []
   },
   "outputs": [
    {
     "data": {
      "text/plain": [
       "'OlaOlaOlaOlaOlaOlaOlaOlaOlaOlaOlaOlaOlaOlaOla'"
      ]
     },
     "execution_count": 41,
     "metadata": {},
     "output_type": "execute_result"
    }
   ],
   "source": [
    "qstring[0:3]*15"
   ]
  },
  {
   "cell_type": "code",
   "execution_count": 42,
   "id": "bee64d83-2b83-434b-97e8-210d3e70f7ae",
   "metadata": {
    "tags": []
   },
   "outputs": [
    {
     "data": {
      "text/plain": [
       "'ola, meu nome é joão.'"
      ]
     },
     "execution_count": 42,
     "metadata": {},
     "output_type": "execute_result"
    }
   ],
   "source": [
    "qstring.lower()"
   ]
  },
  {
   "cell_type": "code",
   "execution_count": 43,
   "id": "f89afb09-7e46-4b23-b704-895900b6f883",
   "metadata": {
    "tags": []
   },
   "outputs": [],
   "source": [
    "qstring2 = \"Eu tenho 20 anos\""
   ]
  },
  {
   "cell_type": "code",
   "execution_count": 44,
   "id": "c3e31c64-2646-4e36-ace9-6fafdeb1792a",
   "metadata": {
    "tags": []
   },
   "outputs": [
    {
     "data": {
      "text/plain": [
       "['Eu', 'tenho', '20', 'anos']"
      ]
     },
     "execution_count": 44,
     "metadata": {},
     "output_type": "execute_result"
    }
   ],
   "source": [
    "qstring2.split()"
   ]
  },
  {
   "cell_type": "code",
   "execution_count": null,
   "id": "b9cd8c8d-1cf4-4b13-9633-7a8a2d38849e",
   "metadata": {},
   "outputs": [],
   "source": []
  }
 ],
 "metadata": {
  "kernelspec": {
   "display_name": "Python 3 (ipykernel)",
   "language": "python",
   "name": "python3"
  },
  "language_info": {
   "codemirror_mode": {
    "name": "ipython",
    "version": 3
   },
   "file_extension": ".py",
   "mimetype": "text/x-python",
   "name": "python",
   "nbconvert_exporter": "python",
   "pygments_lexer": "ipython3",
   "version": "3.11.5"
  }
 },
 "nbformat": 4,
 "nbformat_minor": 5
}
