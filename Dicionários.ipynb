{
 "cells": [
  {
   "cell_type": "markdown",
   "id": "64ea3ab5-cacf-4974-a8d2-f686da9b9277",
   "metadata": {
    "tags": []
   },
   "source": [
    "## Dicionários"
   ]
  },
  {
   "cell_type": "code",
   "execution_count": 99,
   "id": "65deb47b-07c2-435d-b6a9-949e29334ff5",
   "metadata": {
    "tags": []
   },
   "outputs": [],
   "source": [
    "meu_dicionario = {\"nome\":\"Paulo\", \"idade\": 29, \"filhos\": [\"joão\",\"maria\"]}"
   ]
  },
  {
   "cell_type": "code",
   "execution_count": 7,
   "id": "2d32440c-ff39-4237-9f4c-1fc0bfaa37f1",
   "metadata": {
    "tags": []
   },
   "outputs": [
    {
     "data": {
      "text/plain": [
       "{'nome': 'Paulo', 'idade': 29, 'filhos': ['joão', 'maria']}"
      ]
     },
     "execution_count": 7,
     "metadata": {},
     "output_type": "execute_result"
    }
   ],
   "source": [
    "meu_dicionario"
   ]
  },
  {
   "cell_type": "code",
   "execution_count": 6,
   "id": "3f346619-7d2f-40df-8bc9-03e5e196aec3",
   "metadata": {
    "tags": []
   },
   "outputs": [
    {
     "data": {
      "text/plain": [
       "'Paulo'"
      ]
     },
     "execution_count": 6,
     "metadata": {},
     "output_type": "execute_result"
    }
   ],
   "source": [
    "meu_dicionario[\"nome\"]"
   ]
  },
  {
   "cell_type": "code",
   "execution_count": 7,
   "id": "79e65a8d-e658-4df6-aee8-a563e86ed129",
   "metadata": {
    "tags": []
   },
   "outputs": [
    {
     "data": {
      "text/plain": [
       "29"
      ]
     },
     "execution_count": 7,
     "metadata": {},
     "output_type": "execute_result"
    }
   ],
   "source": [
    "meu_dicionario[\"idade\"]"
   ]
  },
  {
   "cell_type": "code",
   "execution_count": 8,
   "id": "aacfabb4-f1d8-4acc-af6b-ed9ecb854d59",
   "metadata": {
    "tags": []
   },
   "outputs": [
    {
     "data": {
      "text/plain": [
       "['joão', 'maria']"
      ]
     },
     "execution_count": 8,
     "metadata": {},
     "output_type": "execute_result"
    }
   ],
   "source": [
    "meu_dicionario[\"filhos\"]"
   ]
  },
  {
   "cell_type": "code",
   "execution_count": 9,
   "id": "8af45946-bbe1-4d56-b76f-a94ed5b9ba14",
   "metadata": {
    "tags": []
   },
   "outputs": [
    {
     "data": {
      "text/plain": [
       "dict"
      ]
     },
     "execution_count": 9,
     "metadata": {},
     "output_type": "execute_result"
    }
   ],
   "source": [
    "type(meu_dicionario)"
   ]
  },
  {
   "cell_type": "code",
   "execution_count": 10,
   "id": "0a54c537-1c3d-4910-9427-0d80c88cc880",
   "metadata": {
    "tags": []
   },
   "outputs": [
    {
     "data": {
      "text/plain": [
       "str"
      ]
     },
     "execution_count": 10,
     "metadata": {},
     "output_type": "execute_result"
    }
   ],
   "source": [
    "type(meu_dicionario[\"nome\"])"
   ]
  },
  {
   "cell_type": "code",
   "execution_count": 10,
   "id": "ee776399-2a73-4561-b26f-c04953416e7d",
   "metadata": {
    "tags": []
   },
   "outputs": [
    {
     "data": {
      "text/plain": [
       "'PAULO'"
      ]
     },
     "execution_count": 10,
     "metadata": {},
     "output_type": "execute_result"
    }
   ],
   "source": [
    "meu_dicionario[\"nome\"].upper()"
   ]
  },
  {
   "cell_type": "code",
   "execution_count": 11,
   "id": "43dab025-36f7-4130-b9e3-45060705fdec",
   "metadata": {
    "tags": []
   },
   "outputs": [
    {
     "data": {
      "text/plain": [
       "['joão', 'maria']"
      ]
     },
     "execution_count": 11,
     "metadata": {},
     "output_type": "execute_result"
    }
   ],
   "source": [
    "meu_dicionario[\"filhos\"]"
   ]
  },
  {
   "cell_type": "code",
   "execution_count": 12,
   "id": "5bee1c9f-7559-4cee-b538-995fb0469e20",
   "metadata": {
    "tags": []
   },
   "outputs": [],
   "source": [
    "meu_dicionario[\"idade\"] = 32"
   ]
  },
  {
   "cell_type": "code",
   "execution_count": 13,
   "id": "9aa67b2f-fbd7-435d-b9b6-f53e777cdb65",
   "metadata": {
    "tags": []
   },
   "outputs": [
    {
     "data": {
      "text/plain": [
       "32"
      ]
     },
     "execution_count": 13,
     "metadata": {},
     "output_type": "execute_result"
    }
   ],
   "source": [
    "meu_dicionario[\"idade\"]"
   ]
  },
  {
   "cell_type": "code",
   "execution_count": 14,
   "id": "a81d573b-522d-4a22-a435-edff3e5a4ae4",
   "metadata": {
    "tags": []
   },
   "outputs": [],
   "source": [
    "meu_dicionario[\"cidade\"] = \"São Paulo\""
   ]
  },
  {
   "cell_type": "code",
   "execution_count": 15,
   "id": "aac6daaa-ec69-4eb3-a929-aad4d10066f0",
   "metadata": {
    "tags": []
   },
   "outputs": [
    {
     "data": {
      "text/plain": [
       "{'nome': 'Paulo',\n",
       " 'idade': 32,\n",
       " 'filhos': ['joão', 'maria'],\n",
       " 'cidade': 'São Paulo'}"
      ]
     },
     "execution_count": 15,
     "metadata": {},
     "output_type": "execute_result"
    }
   ],
   "source": [
    "meu_dicionario"
   ]
  },
  {
   "cell_type": "code",
   "execution_count": 16,
   "id": "2842e1f0-abbb-4a01-91b6-855e604797a9",
   "metadata": {
    "tags": []
   },
   "outputs": [],
   "source": [
    "meu_dicionario[\"variavel aleatoria\"] = {\"a\": 1, \"b\": 2}"
   ]
  },
  {
   "cell_type": "code",
   "execution_count": 17,
   "id": "0ee40da0-d8ba-458c-a600-b5f07e7890cf",
   "metadata": {
    "tags": []
   },
   "outputs": [
    {
     "data": {
      "text/plain": [
       "{'nome': 'Paulo',\n",
       " 'idade': 32,\n",
       " 'filhos': ['joão', 'maria'],\n",
       " 'cidade': 'São Paulo',\n",
       " 'variavel aleatoria': {'a': 1, 'b': 2}}"
      ]
     },
     "execution_count": 17,
     "metadata": {},
     "output_type": "execute_result"
    }
   ],
   "source": [
    "meu_dicionario"
   ]
  },
  {
   "cell_type": "code",
   "execution_count": 25,
   "id": "3f1ef13a-1f9e-4d0b-8636-ffad9b7a10ed",
   "metadata": {
    "tags": []
   },
   "outputs": [
    {
     "data": {
      "text/plain": [
       "dict_keys(['nome', 'idade', 'filhos', 'cidade', 'variavel aleatoria'])"
      ]
     },
     "execution_count": 25,
     "metadata": {},
     "output_type": "execute_result"
    }
   ],
   "source": [
    "meu_dicionario.keys()"
   ]
  },
  {
   "cell_type": "code",
   "execution_count": 26,
   "id": "14678583-1802-4ac8-a1cd-f427cfb1dff1",
   "metadata": {
    "tags": []
   },
   "outputs": [
    {
     "data": {
      "text/plain": [
       "dict_values(['Paulo', 32, ['joão', 'maria'], 'São Paulo', {'a': 1, 'b': 2}])"
      ]
     },
     "execution_count": 26,
     "metadata": {},
     "output_type": "execute_result"
    }
   ],
   "source": [
    "meu_dicionario.values()"
   ]
  },
  {
   "cell_type": "code",
   "execution_count": 27,
   "id": "89bcdd88-c7ba-4972-ac13-0b071139b705",
   "metadata": {
    "tags": []
   },
   "outputs": [
    {
     "data": {
      "text/plain": [
       "dict_items([('nome', 'Paulo'), ('idade', 32), ('filhos', ['joão', 'maria']), ('cidade', 'São Paulo'), ('variavel aleatoria', {'a': 1, 'b': 2})])"
      ]
     },
     "execution_count": 27,
     "metadata": {},
     "output_type": "execute_result"
    }
   ],
   "source": [
    "meu_dicionario.items()"
   ]
  },
  {
   "cell_type": "code",
   "execution_count": 18,
   "id": "a23bfb61-d5ad-40d5-8c6d-85671a2b3301",
   "metadata": {},
   "outputs": [
    {
     "data": {
      "text/plain": [
       "['__class__',\n",
       " '__class_getitem__',\n",
       " '__contains__',\n",
       " '__delattr__',\n",
       " '__delitem__',\n",
       " '__dir__',\n",
       " '__doc__',\n",
       " '__eq__',\n",
       " '__format__',\n",
       " '__ge__',\n",
       " '__getattribute__',\n",
       " '__getitem__',\n",
       " '__getstate__',\n",
       " '__gt__',\n",
       " '__hash__',\n",
       " '__init__',\n",
       " '__init_subclass__',\n",
       " '__ior__',\n",
       " '__iter__',\n",
       " '__le__',\n",
       " '__len__',\n",
       " '__lt__',\n",
       " '__ne__',\n",
       " '__new__',\n",
       " '__or__',\n",
       " '__reduce__',\n",
       " '__reduce_ex__',\n",
       " '__repr__',\n",
       " '__reversed__',\n",
       " '__ror__',\n",
       " '__setattr__',\n",
       " '__setitem__',\n",
       " '__sizeof__',\n",
       " '__str__',\n",
       " '__subclasshook__',\n",
       " 'clear',\n",
       " 'copy',\n",
       " 'fromkeys',\n",
       " 'get',\n",
       " 'items',\n",
       " 'keys',\n",
       " 'pop',\n",
       " 'popitem',\n",
       " 'setdefault',\n",
       " 'update',\n",
       " 'values']"
      ]
     },
     "execution_count": 18,
     "metadata": {},
     "output_type": "execute_result"
    }
   ],
   "source": [
    "dir(meu_dicionario)"
   ]
  },
  {
   "cell_type": "code",
   "execution_count": 8,
   "id": "e75025fd-a659-49ea-9a65-062b458d5dd0",
   "metadata": {
    "tags": []
   },
   "outputs": [
    {
     "data": {
      "text/plain": [
       "{'nome': 'Paulo', 'idade': 29, 'filhos': ['joão', 'maria']}"
      ]
     },
     "execution_count": 8,
     "metadata": {},
     "output_type": "execute_result"
    }
   ],
   "source": [
    "meu_dicionario"
   ]
  },
  {
   "cell_type": "code",
   "execution_count": 23,
   "id": "f57aea65-3784-4a88-a7a7-02c559d4c993",
   "metadata": {
    "tags": []
   },
   "outputs": [],
   "source": [
    "del meu_dicionario['nome']"
   ]
  },
  {
   "cell_type": "code",
   "execution_count": 27,
   "id": "1c02d346-b010-4a91-bf69-3c92011feb49",
   "metadata": {
    "tags": []
   },
   "outputs": [
    {
     "data": {
      "text/plain": [
       "{'nome': 'Paulo', 'idade': 29, 'filhos': ['joão', 'maria']}"
      ]
     },
     "execution_count": 27,
     "metadata": {},
     "output_type": "execute_result"
    }
   ],
   "source": [
    "meu_dicionario"
   ]
  },
  {
   "cell_type": "code",
   "execution_count": 33,
   "id": "c3c86576-6600-4f4b-b963-e9a47704403f",
   "metadata": {
    "tags": []
   },
   "outputs": [],
   "source": [
    "meu_dicionario[\"Netos\"] = \"Pedro\""
   ]
  },
  {
   "cell_type": "code",
   "execution_count": 11,
   "id": "05e5c269-7b28-455f-a07a-e1fb790f462e",
   "metadata": {
    "tags": []
   },
   "outputs": [
    {
     "data": {
      "text/plain": [
       "{'nome': 'Paulo', 'idade': 29, 'filhos': ['joão', 'maria']}"
      ]
     },
     "execution_count": 11,
     "metadata": {},
     "output_type": "execute_result"
    }
   ],
   "source": [
    "meu_dicionario"
   ]
  },
  {
   "cell_type": "code",
   "execution_count": 89,
   "id": "6a8d0317-0bed-47b7-a76c-bb44cf6b205e",
   "metadata": {
    "tags": []
   },
   "outputs": [
    {
     "data": {
      "text/plain": [
       "dict_keys(['nome', 'idade', 'filhos'])"
      ]
     },
     "execution_count": 89,
     "metadata": {},
     "output_type": "execute_result"
    }
   ],
   "source": [
    "meu_dicionario.keys()"
   ]
  },
  {
   "cell_type": "code",
   "execution_count": 90,
   "id": "baf50993-5640-469f-9092-9bdd0591e57b",
   "metadata": {
    "tags": []
   },
   "outputs": [
    {
     "data": {
      "text/plain": [
       "dict_items([('nome', 'Paulo'), ('idade', 29), ('filhos', ['joão', 'maria'])])"
      ]
     },
     "execution_count": 90,
     "metadata": {},
     "output_type": "execute_result"
    }
   ],
   "source": [
    "meu_dicionario.items()"
   ]
  },
  {
   "cell_type": "code",
   "execution_count": 111,
   "id": "955d415e-30a5-4024-bf8d-9dcf6c1d7222",
   "metadata": {
    "tags": []
   },
   "outputs": [],
   "source": [
    "t = list(meu_dicionario.items())[0]"
   ]
  },
  {
   "cell_type": "code",
   "execution_count": 68,
   "id": "4d6d7a55-a717-47c0-8c87-8f8e2d6243dc",
   "metadata": {
    "tags": []
   },
   "outputs": [],
   "source": [
    "alugado = {}"
   ]
  },
  {
   "cell_type": "code",
   "execution_count": 112,
   "id": "784453db-61ea-4d82-871f-6a1a41cf12fe",
   "metadata": {},
   "outputs": [],
   "source": [
    "alugado[t[0]] = t[1]"
   ]
  },
  {
   "cell_type": "code",
   "execution_count": 113,
   "id": "3ba3c177-63de-4e18-b44e-a18d176c29b8",
   "metadata": {
    "tags": []
   },
   "outputs": [
    {
     "data": {
      "text/plain": [
       "{'nome': 'Paulo'}"
      ]
     },
     "execution_count": 113,
     "metadata": {},
     "output_type": "execute_result"
    }
   ],
   "source": [
    "alugado"
   ]
  },
  {
   "cell_type": "code",
   "execution_count": 109,
   "id": "f994f97d-5446-437e-b600-def47d2ba896",
   "metadata": {
    "tags": []
   },
   "outputs": [
    {
     "ename": "KeyError",
     "evalue": "'idade'",
     "output_type": "error",
     "traceback": [
      "\u001b[1;31m---------------------------------------------------------------------------\u001b[0m",
      "\u001b[1;31mKeyError\u001b[0m                                  Traceback (most recent call last)",
      "Cell \u001b[1;32mIn[109], line 1\u001b[0m\n\u001b[1;32m----> 1\u001b[0m \u001b[43malugado\u001b[49m\u001b[38;5;241;43m.\u001b[39;49m\u001b[43mpop\u001b[49m\u001b[43m(\u001b[49m\u001b[38;5;124;43m\"\u001b[39;49m\u001b[38;5;124;43midade\u001b[39;49m\u001b[38;5;124;43m\"\u001b[39;49m\u001b[43m)\u001b[49m\n",
      "\u001b[1;31mKeyError\u001b[0m: 'idade'"
     ]
    }
   ],
   "source": [
    "alugado.pop(\"idade\")"
   ]
  },
  {
   "cell_type": "code",
   "execution_count": 114,
   "id": "083b2655-d8e6-4607-8134-d5f4b48736d9",
   "metadata": {
    "tags": []
   },
   "outputs": [
    {
     "data": {
      "text/plain": [
       "{'nome': 'Paulo'}"
      ]
     },
     "execution_count": 114,
     "metadata": {},
     "output_type": "execute_result"
    }
   ],
   "source": [
    "alugado"
   ]
  },
  {
   "cell_type": "code",
   "execution_count": 115,
   "id": "418dd836-90a8-41c4-8645-7fcacaf3433d",
   "metadata": {
    "tags": []
   },
   "outputs": [
    {
     "data": {
      "text/plain": [
       "'Paulo'"
      ]
     },
     "execution_count": 115,
     "metadata": {},
     "output_type": "execute_result"
    }
   ],
   "source": [
    "meu_dicionario.pop(t[0])"
   ]
  },
  {
   "cell_type": "code",
   "execution_count": 116,
   "id": "faad026e-2dbe-4d66-8c3e-0b7e67297d81",
   "metadata": {
    "tags": []
   },
   "outputs": [
    {
     "data": {
      "text/plain": [
       "{'idade': 29, 'filhos': ['joão', 'maria']}"
      ]
     },
     "execution_count": 116,
     "metadata": {},
     "output_type": "execute_result"
    }
   ],
   "source": [
    "meu_dicionario"
   ]
  },
  {
   "cell_type": "code",
   "execution_count": null,
   "id": "52ab3092-2952-4676-8278-000735d06dfb",
   "metadata": {},
   "outputs": [],
   "source": []
  }
 ],
 "metadata": {
  "kernelspec": {
   "display_name": "Python 3 (ipykernel)",
   "language": "python",
   "name": "python3"
  },
  "language_info": {
   "codemirror_mode": {
    "name": "ipython",
    "version": 3
   },
   "file_extension": ".py",
   "mimetype": "text/x-python",
   "name": "python",
   "nbconvert_exporter": "python",
   "pygments_lexer": "ipython3",
   "version": "3.11.5"
  }
 },
 "nbformat": 4,
 "nbformat_minor": 5
}
