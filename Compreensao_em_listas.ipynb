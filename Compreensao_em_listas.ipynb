{
 "cells": [
  {
   "cell_type": "markdown",
   "id": "29172d80-5445-4fdb-9e7c-ba6b6bfd0368",
   "metadata": {},
   "source": [
    "# Compreensão em listas"
   ]
  },
  {
   "cell_type": "code",
   "execution_count": 1,
   "id": "c0dc537e-f46c-41e5-b234-81245e097c81",
   "metadata": {
    "tags": []
   },
   "outputs": [],
   "source": [
    "word = \"string\""
   ]
  },
  {
   "cell_type": "code",
   "execution_count": 3,
   "id": "0aedf031-34d7-467b-ab67-f002aa9ee614",
   "metadata": {
    "tags": []
   },
   "outputs": [],
   "source": [
    "list_words = []\n",
    "for w in word:\n",
    "    list_words.append(w)"
   ]
  },
  {
   "cell_type": "code",
   "execution_count": 4,
   "id": "f44935e5-dfb2-483d-b624-bbe7fce9f8b0",
   "metadata": {
    "tags": []
   },
   "outputs": [
    {
     "data": {
      "text/plain": [
       "['s', 't', 'r', 'i', 'n', 'g']"
      ]
     },
     "execution_count": 4,
     "metadata": {},
     "output_type": "execute_result"
    }
   ],
   "source": [
    "list_words"
   ]
  },
  {
   "cell_type": "code",
   "execution_count": 5,
   "id": "d7529943-8d92-4526-b3d5-13aae1ffa783",
   "metadata": {
    "tags": []
   },
   "outputs": [],
   "source": [
    "list_words = [w for w in word]"
   ]
  },
  {
   "cell_type": "code",
   "execution_count": 6,
   "id": "c99d760f-83d9-4774-a865-f03546e03809",
   "metadata": {
    "tags": []
   },
   "outputs": [
    {
     "data": {
      "text/plain": [
       "['s', 't', 'r', 'i', 'n', 'g']"
      ]
     },
     "execution_count": 6,
     "metadata": {},
     "output_type": "execute_result"
    }
   ],
   "source": [
    "list_words"
   ]
  },
  {
   "cell_type": "code",
   "execution_count": 7,
   "id": "11ff9063-4780-49d6-b2a5-84edbcf1935b",
   "metadata": {
    "tags": []
   },
   "outputs": [],
   "source": [
    "nome = \"Djalma\""
   ]
  },
  {
   "cell_type": "code",
   "execution_count": 8,
   "id": "910c13b4-137e-4984-acb9-14a464d76649",
   "metadata": {
    "tags": []
   },
   "outputs": [],
   "source": [
    "list_meunome = [w for w in nome]"
   ]
  },
  {
   "cell_type": "code",
   "execution_count": 9,
   "id": "d72b9387-6849-4d05-b2f1-146f2d3329ad",
   "metadata": {
    "tags": []
   },
   "outputs": [
    {
     "data": {
      "text/plain": [
       "['D', 'j', 'a', 'l', 'm', 'a']"
      ]
     },
     "execution_count": 9,
     "metadata": {},
     "output_type": "execute_result"
    }
   ],
   "source": [
    "list_meunome"
   ]
  },
  {
   "cell_type": "code",
   "execution_count": 10,
   "id": "6c9c2331-b349-4ec9-a023-9b6ff296fc25",
   "metadata": {
    "tags": []
   },
   "outputs": [],
   "source": [
    "list_2 = [x**2 for x in range(10)]"
   ]
  },
  {
   "cell_type": "code",
   "execution_count": 11,
   "id": "77c3c0de-fb14-4dec-a018-f7128271c582",
   "metadata": {
    "tags": []
   },
   "outputs": [
    {
     "data": {
      "text/plain": [
       "[0, 1, 4, 9, 16, 25, 36, 49, 64, 81]"
      ]
     },
     "execution_count": 11,
     "metadata": {},
     "output_type": "execute_result"
    }
   ],
   "source": [
    "list_2"
   ]
  },
  {
   "cell_type": "code",
   "execution_count": 13,
   "id": "423c05a2-4c69-49b8-8bb8-bdcdb0d5f22f",
   "metadata": {
    "tags": []
   },
   "outputs": [],
   "source": [
    "list_2 = [x for x in range(50) if x % 2 == 0]"
   ]
  },
  {
   "cell_type": "code",
   "execution_count": 14,
   "id": "e59ae08e-a868-41d3-a3b8-81576a7c59c4",
   "metadata": {
    "scrolled": true,
    "tags": []
   },
   "outputs": [
    {
     "data": {
      "text/plain": [
       "[0,\n",
       " 2,\n",
       " 4,\n",
       " 6,\n",
       " 8,\n",
       " 10,\n",
       " 12,\n",
       " 14,\n",
       " 16,\n",
       " 18,\n",
       " 20,\n",
       " 22,\n",
       " 24,\n",
       " 26,\n",
       " 28,\n",
       " 30,\n",
       " 32,\n",
       " 34,\n",
       " 36,\n",
       " 38,\n",
       " 40,\n",
       " 42,\n",
       " 44,\n",
       " 46,\n",
       " 48]"
      ]
     },
     "execution_count": 14,
     "metadata": {},
     "output_type": "execute_result"
    }
   ],
   "source": [
    "list_2"
   ]
  },
  {
   "cell_type": "code",
   "execution_count": 18,
   "id": "3456c618-38f4-45be-84af-e70cedfda817",
   "metadata": {
    "tags": []
   },
   "outputs": [],
   "source": [
    "y = 100\n",
    "list_2 =[(x**2 + y) for x in range(50) if x % 2 == 0]"
   ]
  },
  {
   "cell_type": "code",
   "execution_count": 19,
   "id": "82e07e7a-84e3-462b-a6a0-90ce9b056524",
   "metadata": {
    "scrolled": true,
    "tags": []
   },
   "outputs": [
    {
     "data": {
      "text/plain": [
       "[100,\n",
       " 104,\n",
       " 116,\n",
       " 136,\n",
       " 164,\n",
       " 200,\n",
       " 244,\n",
       " 296,\n",
       " 356,\n",
       " 424,\n",
       " 500,\n",
       " 584,\n",
       " 676,\n",
       " 776,\n",
       " 884,\n",
       " 1000,\n",
       " 1124,\n",
       " 1256,\n",
       " 1396,\n",
       " 1544,\n",
       " 1700,\n",
       " 1864,\n",
       " 2036,\n",
       " 2216,\n",
       " 2404]"
      ]
     },
     "execution_count": 19,
     "metadata": {},
     "output_type": "execute_result"
    }
   ],
   "source": [
    "list_2"
   ]
  },
  {
   "cell_type": "code",
   "execution_count": 20,
   "id": "2921c58d-ab4f-4d51-8a6c-7705340ba6b5",
   "metadata": {
    "tags": []
   },
   "outputs": [],
   "source": [
    "y = 100\n",
    "list_2 = [str(x**2 + 2) for x in range(50) if x % 2 == 0]"
   ]
  },
  {
   "cell_type": "code",
   "execution_count": 21,
   "id": "12ba77bb-af40-4e99-ad5c-48b53a738517",
   "metadata": {
    "scrolled": true,
    "tags": []
   },
   "outputs": [
    {
     "data": {
      "text/plain": [
       "['2',\n",
       " '6',\n",
       " '18',\n",
       " '38',\n",
       " '66',\n",
       " '102',\n",
       " '146',\n",
       " '198',\n",
       " '258',\n",
       " '326',\n",
       " '402',\n",
       " '486',\n",
       " '578',\n",
       " '678',\n",
       " '786',\n",
       " '902',\n",
       " '1026',\n",
       " '1158',\n",
       " '1298',\n",
       " '1446',\n",
       " '1602',\n",
       " '1766',\n",
       " '1938',\n",
       " '2118',\n",
       " '2306']"
      ]
     },
     "execution_count": 21,
     "metadata": {},
     "output_type": "execute_result"
    }
   ],
   "source": [
    "list_2"
   ]
  },
  {
   "cell_type": "code",
   "execution_count": null,
   "id": "c6f2f82f-1bbd-4eba-8e4a-449c361aff47",
   "metadata": {},
   "outputs": [],
   "source": []
  }
 ],
 "metadata": {
  "kernelspec": {
   "display_name": "Python 3 (ipykernel)",
   "language": "python",
   "name": "python3"
  },
  "language_info": {
   "codemirror_mode": {
    "name": "ipython",
    "version": 3
   },
   "file_extension": ".py",
   "mimetype": "text/x-python",
   "name": "python",
   "nbconvert_exporter": "python",
   "pygments_lexer": "ipython3",
   "version": "3.11.5"
  }
 },
 "nbformat": 4,
 "nbformat_minor": 5
}
