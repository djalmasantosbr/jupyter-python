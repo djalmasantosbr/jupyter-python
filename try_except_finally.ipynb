{
 "cells": [
  {
   "cell_type": "markdown",
   "id": "f8813663-aeef-491b-91f8-1885254fba43",
   "metadata": {},
   "source": [
    "## try, except e finally"
   ]
  },
  {
   "cell_type": "code",
   "execution_count": 2,
   "id": "86bae491-3b53-448b-9cc5-163560a9ca4b",
   "metadata": {
    "tags": []
   },
   "outputs": [
    {
     "ename": "TypeError",
     "evalue": "can only concatenate list (not \"int\") to list",
     "output_type": "error",
     "traceback": [
      "\u001b[1;31m---------------------------------------------------------------------------\u001b[0m",
      "\u001b[1;31mTypeError\u001b[0m                                 Traceback (most recent call last)",
      "Cell \u001b[1;32mIn[2], line 4\u001b[0m\n\u001b[0;32m      1\u001b[0m x \u001b[38;5;241m=\u001b[39m [\u001b[38;5;241m1\u001b[39m, \u001b[38;5;241m2\u001b[39m, \u001b[38;5;241m3\u001b[39m]\n\u001b[0;32m      2\u001b[0m y \u001b[38;5;241m=\u001b[39m \u001b[38;5;241m1\u001b[39m\n\u001b[1;32m----> 4\u001b[0m \u001b[43mx\u001b[49m\u001b[43m \u001b[49m\u001b[38;5;241;43m+\u001b[39;49m\u001b[43m \u001b[49m\u001b[43my\u001b[49m\n",
      "\u001b[1;31mTypeError\u001b[0m: can only concatenate list (not \"int\") to list"
     ]
    }
   ],
   "source": [
    "x = [1, 2, 3]\n",
    "y = 1\n",
    "\n",
    "x + y"
   ]
  },
  {
   "cell_type": "code",
   "execution_count": 5,
   "id": "81b1f126-c6e8-40b7-bfce-8b5d4d11cc02",
   "metadata": {
    "tags": []
   },
   "outputs": [
    {
     "name": "stdout",
     "output_type": "stream",
     "text": [
      "Erro\n",
      "Olá\n"
     ]
    }
   ],
   "source": [
    "x = [1, 2, 3]\n",
    "y = 1\n",
    "\n",
    "try:\n",
    "    x + y\n",
    "    x = 1  \n",
    "    x = 1\n",
    "except:\n",
    "    print(\"Erro\")\n",
    "print(\"Olá\")"
   ]
  },
  {
   "cell_type": "code",
   "execution_count": 7,
   "id": "d58e6bbc-5291-4b3b-8704-ae0ea2458326",
   "metadata": {
    "tags": []
   },
   "outputs": [
    {
     "name": "stdout",
     "output_type": "stream",
     "text": [
      "Erro: can only concatenate list (not \"int\") to list\n",
      "Olá\n"
     ]
    }
   ],
   "source": [
    "x = [1, 2, 3]\n",
    "y = 1\n",
    "\n",
    "try:\n",
    "    x + y\n",
    "    x = 1  \n",
    "    x = 1\n",
    "except Exception as e:\n",
    "    print(\"Erro: {}\".format(e))\n",
    "print(\"Olá\")"
   ]
  },
  {
   "cell_type": "code",
   "execution_count": 9,
   "id": "69aecb71-6da6-4c5a-9368-1d25d0db3661",
   "metadata": {
    "tags": []
   },
   "outputs": [
    {
     "name": "stdout",
     "output_type": "stream",
     "text": [
      "Olá\n"
     ]
    }
   ],
   "source": [
    "x = [1, 2, 3]\n",
    "y = 1\n",
    "\n",
    "try:\n",
    "    #x + y\n",
    "    x = 1  \n",
    "    x = 1\n",
    "except Exception as e:\n",
    "    print(\"Erro: {}\".format(e))\n",
    "finally:\n",
    "    print(\"Olá\")"
   ]
  },
  {
   "cell_type": "code",
   "execution_count": null,
   "id": "e3a8d73d-e608-4e62-8550-aec10fee83c4",
   "metadata": {},
   "outputs": [],
   "source": []
  }
 ],
 "metadata": {
  "kernelspec": {
   "display_name": "Python 3 (ipykernel)",
   "language": "python",
   "name": "python3"
  },
  "language_info": {
   "codemirror_mode": {
    "name": "ipython",
    "version": 3
   },
   "file_extension": ".py",
   "mimetype": "text/x-python",
   "name": "python",
   "nbconvert_exporter": "python",
   "pygments_lexer": "ipython3",
   "version": "3.11.5"
  }
 },
 "nbformat": 4,
 "nbformat_minor": 5
}
