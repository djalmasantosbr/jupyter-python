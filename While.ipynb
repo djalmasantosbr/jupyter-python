{
 "cells": [
  {
   "cell_type": "markdown",
   "id": "5127c4e3-dcdc-4637-bcce-4a48078edbce",
   "metadata": {},
   "source": [
    "## While - Estrutura de repetição"
   ]
  },
  {
   "cell_type": "code",
   "execution_count": 1,
   "id": "736e6dda-07ef-4d05-8e71-072289670c6e",
   "metadata": {
    "tags": []
   },
   "outputs": [
    {
     "name": "stdout",
     "output_type": "stream",
     "text": [
      "O valor de x é: 0\n",
      "O valor de x é: 1\n",
      "O valor de x é: 2\n",
      "O valor de x é: 3\n",
      "O valor de x é: 4\n",
      "O valor de x é: 5\n",
      "O valor de x é: 6\n",
      "O valor de x é: 7\n",
      "O valor de x é: 8\n",
      "O valor de x é: 9\n"
     ]
    }
   ],
   "source": [
    "x = 0\n",
    "\n",
    "while x < 10:\n",
    "    print(\"O valor de x é: {}\".format(x))\n",
    "    x = x + 1"
   ]
  },
  {
   "cell_type": "code",
   "execution_count": 3,
   "id": "1e9ea532-430e-40b5-90a2-05e0e925bec9",
   "metadata": {
    "tags": []
   },
   "outputs": [
    {
     "name": "stdout",
     "output_type": "stream",
     "text": [
      "O valor de x é: 0\n",
      "O valor de x é: 1\n",
      "O valor de x é: 2\n",
      "O valor de x é: 3\n",
      "O valor de x é: 4\n",
      "O valor de x é: 5\n",
      "O valor de x é: 6\n",
      "O valor de x é: 7\n",
      "O valor de x é: 8\n",
      "O valor de x é: 9\n"
     ]
    }
   ],
   "source": [
    "x = 0\n",
    "\n",
    "while x < 10:\n",
    "    print(\"O valor de x é: {}\".format(x))\n",
    "    x += 1 # Tem o mesmo valor de x = x + 1"
   ]
  },
  {
   "cell_type": "code",
   "execution_count": 4,
   "id": "2e225cd2-e062-45e2-bc1a-d4c3feaa93a8",
   "metadata": {
    "tags": []
   },
   "outputs": [
    {
     "name": "stdout",
     "output_type": "stream",
     "text": [
      "O valor de x é: 0\n",
      "X ainda é menor que 10. Incrementando...\n",
      "O valor de x é: 1\n",
      "X ainda é menor que 10. Incrementando...\n",
      "O valor de x é: 2\n",
      "X ainda é menor que 10. Incrementando...\n",
      "O valor de x é: 3\n",
      "X ainda é menor que 10. Incrementando...\n",
      "O valor de x é: 4\n",
      "X ainda é menor que 10. Incrementando...\n",
      "O valor de x é: 5\n",
      "X ainda é menor que 10. Incrementando...\n",
      "O valor de x é: 6\n",
      "X ainda é menor que 10. Incrementando...\n",
      "O valor de x é: 7\n",
      "X ainda é menor que 10. Incrementando...\n",
      "O valor de x é: 8\n",
      "X ainda é menor que 10. Incrementando...\n",
      "O valor de x é: 9\n",
      "X ainda é menor que 10. Incrementando...\n"
     ]
    }
   ],
   "source": [
    "x = 0\n",
    "\n",
    "while x < 10:\n",
    "    print(\"O valor de x é: {}\".format(x))\n",
    "    print(\"X ainda é menor que 10. Incrementando...\")\n",
    "    x = x + 1"
   ]
  },
  {
   "cell_type": "code",
   "execution_count": 10,
   "id": "5cf05012-3a22-4ff7-a1f7-12fbc75a0108",
   "metadata": {
    "tags": []
   },
   "outputs": [
    {
     "name": "stdout",
     "output_type": "stream",
     "text": [
      "O valor de x é: 0\n",
      "X ainda é menor que 10. Incrementando...\n",
      "O valor de x é: 1\n",
      "X ainda é menor que 10. Incrementando...\n",
      "O valor de x é: 2\n",
      "X ainda é menor que 10. Incrementando...\n",
      "O valor de x é: 3\n",
      "X ainda é menor que 10. Incrementando...\n",
      "O valor de x é: 4\n",
      "X ainda é menor que 10. Incrementando...\n",
      "O valor de x é: 5\n",
      "X ainda é menor que 10. Incrementando...\n",
      "O valor de x é: 6\n",
      "X ainda é menor que 10. Incrementando...\n",
      "O valor de x é: 7\n",
      "X ainda é menor que 10. Incrementando...\n",
      "O valor de x é: 8\n",
      "X ainda é menor que 10. Incrementando...\n",
      "O valor de x é: 9\n",
      "X ainda é menor que 10. Incrementando...\n",
      "Concluido!\n"
     ]
    }
   ],
   "source": [
    "x = 0\n",
    "\n",
    "while x < 10:\n",
    "    print(\"O valor de x é: {}\".format(x))\n",
    "    print(\"X ainda é menor que 10. Incrementando...\")\n",
    "    x = x + 1\n",
    "else:\n",
    "    print(\"Concluido!\")"
   ]
  },
  {
   "cell_type": "code",
   "execution_count": 13,
   "id": "56466357-d386-456a-8808-37066ed2f8e6",
   "metadata": {
    "tags": []
   },
   "outputs": [
    {
     "name": "stdout",
     "output_type": "stream",
     "text": [
      "O valor de x é: 0\n",
      "O valor de x é: 1\n",
      "O valor de x é: 2\n",
      "O valor de x é: 3\n",
      "O valor de x é: 4\n",
      "O valor de x é: 5\n",
      "O valor de x é: 6\n",
      "O valor de x é: 7\n",
      "O valor de x é: 8\n",
      "O valor de x é: 9\n",
      "Concluido!\n"
     ]
    }
   ],
   "source": [
    "x = 0\n",
    "\n",
    "while x < 10:\n",
    "    print(\"O valor de x é: {}\".format(x))\n",
    "    x += 1\n",
    "    continue # Ele ignora o codigo abaixo....\n",
    "    print(\"X ainda é menor que 10. Incrementando...\")\n",
    "    \n",
    "else:\n",
    "    print(\"Concluido!\")"
   ]
  },
  {
   "cell_type": "code",
   "execution_count": 14,
   "id": "c3f75c29-db82-4ac8-97fc-54d22f9d2481",
   "metadata": {
    "tags": []
   },
   "outputs": [
    {
     "name": "stdout",
     "output_type": "stream",
     "text": [
      "O valor de x é: 0\n",
      "Quebra de laço\n"
     ]
    }
   ],
   "source": [
    "x = 0\n",
    "\n",
    "while x < 10:\n",
    "    print(\"O valor de x é: {}\".format(x))\n",
    "    x += 1\n",
    "    break # Ele quebra o laço\n",
    "    print(\"X ainda é menor que 10. Incrementando...\")\n",
    "    \n",
    "print(\"Quebra de laço\")"
   ]
  },
  {
   "cell_type": "code",
   "execution_count": null,
   "id": "d54fb55d-6791-4cd9-b135-5aa3a48191d0",
   "metadata": {},
   "outputs": [],
   "source": [
    "while True:\n",
    "    codigo"
   ]
  },
  {
   "cell_type": "code",
   "execution_count": 18,
   "id": "cc2550bd-090a-4201-964c-d24611ea120f",
   "metadata": {
    "tags": []
   },
   "outputs": [
    {
     "name": "stdout",
     "output_type": "stream",
     "text": [
      "10\n",
      "9\n",
      "8\n",
      "7\n",
      "6\n",
      "5\n"
     ]
    }
   ],
   "source": [
    "y = 10\n",
    "\n",
    "while True:\n",
    "    print(y)\n",
    "    y -= 1\n",
    "    if y == 5:\n",
    "        print(y)\n",
    "        break"
   ]
  },
  {
   "cell_type": "code",
   "execution_count": null,
   "id": "f6a2bde0-7dab-425f-baf1-96bb1a39215a",
   "metadata": {},
   "outputs": [],
   "source": []
  }
 ],
 "metadata": {
  "kernelspec": {
   "display_name": "Python 3 (ipykernel)",
   "language": "python",
   "name": "python3"
  },
  "language_info": {
   "codemirror_mode": {
    "name": "ipython",
    "version": 3
   },
   "file_extension": ".py",
   "mimetype": "text/x-python",
   "name": "python",
   "nbconvert_exporter": "python",
   "pygments_lexer": "ipython3",
   "version": "3.11.5"
  }
 },
 "nbformat": 4,
 "nbformat_minor": 5
}
