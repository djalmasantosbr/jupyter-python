{
 "cells": [
  {
   "cell_type": "markdown",
   "id": "43438cfc-12fe-45ef-834f-362a39001ffa",
   "metadata": {},
   "source": [
    "<img src=\"https://asimov.academy/wp-content/uploads/2021/01/logo.png\" width=\"200\"/>\n",
    "_____________________________________________\n",
    "\n",
    "## Exercícios #2 - Operadores de comparação e laços\n"
   ]
  },
  {
   "cell_type": "markdown",
   "id": "4d88ac45-e1ed-498e-b232-94bdf5613dcc",
   "metadata": {},
   "source": [
    "### Exercício 1\n",
    "Faça um programa para a leitura de duas notas parciais de um aluno. O programa deve calcular a média alcançada por aluno e apresentar:\n",
    "- A mensagem \"Aprovado\", se a média alcançada for maior ou igual a 7;\n",
    "- A mensagem \"Reprovado\", se a média for menor do que 7;\n",
    "- A mensagem \"Aprovado com Distinção\", se a média for igual a 10."
   ]
  },
  {
   "cell_type": "code",
   "execution_count": 8,
   "id": "48496032-8061-4014-9866-6eda821cb92c",
   "metadata": {
    "tags": []
   },
   "outputs": [
    {
     "name": "stdout",
     "output_type": "stream",
     "text": [
      "Digite sua nota 1:\n"
     ]
    },
    {
     "name": "stdin",
     "output_type": "stream",
     "text": [
      " 4\n"
     ]
    },
    {
     "name": "stdout",
     "output_type": "stream",
     "text": [
      "Digite sua nota 2:\n"
     ]
    },
    {
     "name": "stdin",
     "output_type": "stream",
     "text": [
      " 5\n"
     ]
    },
    {
     "name": "stdout",
     "output_type": "stream",
     "text": [
      "Reprovado\n"
     ]
    }
   ],
   "source": [
    "nota = []\n",
    "print(\"Digite sua nota 1:\")\n",
    "a = float(input())\n",
    "nota.append(a)\n",
    "\n",
    "print(\"Digite sua nota 2:\")\n",
    "b = float(input())\n",
    "nota.append(b)\n",
    "\n",
    "media = (nota[0] + nota[1]) / 2\n",
    "\n",
    "if media >= 7 and media != 10:\n",
    "    print(\"Aprovado!\")\n",
    "elif media == 10:\n",
    "    print(\"Aprovado com Distinção\")\n",
    "else: \n",
    "    print(\"Reprovado\")"
   ]
  },
  {
   "cell_type": "markdown",
   "id": "114196f0-3ef3-4c4f-a234-756855185b54",
   "metadata": {},
   "source": [
    "### Exercício 2\n",
    "Escreva um script que leia três números e mostre o maior e o menor deles."
   ]
  },
  {
   "cell_type": "code",
   "execution_count": 36,
   "id": "44af1690-ee8e-4e5b-8c8e-ef740a031de0",
   "metadata": {
    "tags": []
   },
   "outputs": [
    {
     "name": "stdout",
     "output_type": "stream",
     "text": [
      "Digite o primeiro número: \n"
     ]
    },
    {
     "name": "stdin",
     "output_type": "stream",
     "text": [
      " 9\n"
     ]
    },
    {
     "name": "stdout",
     "output_type": "stream",
     "text": [
      "Digite o segundo número:\n"
     ]
    },
    {
     "name": "stdin",
     "output_type": "stream",
     "text": [
      " 9\n"
     ]
    },
    {
     "name": "stdout",
     "output_type": "stream",
     "text": [
      "Digite o terceiro número:\n"
     ]
    },
    {
     "name": "stdin",
     "output_type": "stream",
     "text": [
      " 9\n"
     ]
    },
    {
     "name": "stdout",
     "output_type": "stream",
     "text": [
      "O menor número é: 9\n",
      "O maior número é: 9\n"
     ]
    }
   ],
   "source": [
    "print(\"Digite o primeiro número: \")\n",
    "n1 = int(input())\n",
    "print(\"Digite o segundo número:\")\n",
    "n2 = int(input())\n",
    "print(\"Digite o terceiro número:\")\n",
    "n3 = int(input())\n",
    "\n",
    "menor = 0\n",
    "maior = 0\n",
    "\n",
    "if n1 < n2 and n1 < n3:\n",
    "    menor = n1\n",
    "else:\n",
    "    if n2 < n3:\n",
    "        menor = n2\n",
    "    else:\n",
    "        menor = n3\n",
    "print(\"O menor número é: {}\".format(menor))\n",
    "\n",
    "if n1 > n2 and n1 > n3:\n",
    "    maior = n1\n",
    "else:\n",
    "    if n2 > n3:\n",
    "        maior = n2\n",
    "    else:\n",
    "        maior = n3\n",
    "print(\"O maior número é: {}\".format(maior))"
   ]
  },
  {
   "cell_type": "code",
   "execution_count": 167,
   "id": "a8263103-4f04-4ca3-a7ec-608c75e30383",
   "metadata": {
    "tags": []
   },
   "outputs": [
    {
     "name": "stdout",
     "output_type": "stream",
     "text": [
      "Informe o 1º número: \n"
     ]
    },
    {
     "name": "stdin",
     "output_type": "stream",
     "text": [
      " 30\n"
     ]
    },
    {
     "name": "stdout",
     "output_type": "stream",
     "text": [
      "Informe o 2º número: \n"
     ]
    },
    {
     "name": "stdin",
     "output_type": "stream",
     "text": [
      " 40\n"
     ]
    },
    {
     "name": "stdout",
     "output_type": "stream",
     "text": [
      "Informe o 3º número: \n"
     ]
    },
    {
     "name": "stdin",
     "output_type": "stream",
     "text": [
      " 4\n"
     ]
    },
    {
     "name": "stdout",
     "output_type": "stream",
     "text": [
      "O maior número é: 40\n",
      "O menor número é: 4\n"
     ]
    }
   ],
   "source": [
    "list_nums = []\n",
    "for i in range(3):\n",
    "    print(\"Informe o {}º número: \".format(i + 1))\n",
    "    x = int(input())\n",
    "    list_nums.append(x)\n",
    "    \n",
    "list_nums.sort()\n",
    "print(\"O maior número é: {}\".format(list_nums[-1]))\n",
    "print(\"O menor número é: {}\".format(list_nums[0]))"
   ]
  },
  {
   "cell_type": "markdown",
   "id": "1b1b9485-b646-40f6-8b37-1d81244ea7c6",
   "metadata": {},
   "source": [
    "### Exercício 3 \n",
    "Nome na vertical em escada. \n",
    "\n",
    "F<br>\n",
    "FU<br>\n",
    "FUL<br>\n",
    "FULA<br>\n",
    "FULAN<br>\n",
    "FULANO<br>"
   ]
  },
  {
   "cell_type": "code",
   "execution_count": 177,
   "id": "adc4b5c2-9bd9-4d08-a23f-e2394f650a4b",
   "metadata": {
    "tags": []
   },
   "outputs": [
    {
     "name": "stdout",
     "output_type": "stream",
     "text": [
      "Digite neu nome:\n"
     ]
    },
    {
     "name": "stdin",
     "output_type": "stream",
     "text": [
      " Djalma Santos Pedrosa\n"
     ]
    },
    {
     "name": "stdout",
     "output_type": "stream",
     "text": [
      "\n",
      "D\n",
      "Dj\n",
      "Dja\n",
      "Djal\n",
      "Djalm\n",
      "Djalma\n",
      "Djalma \n",
      "Djalma S\n",
      "Djalma Sa\n",
      "Djalma San\n",
      "Djalma Sant\n",
      "Djalma Santo\n",
      "Djalma Santos\n",
      "Djalma Santos \n",
      "Djalma Santos P\n",
      "Djalma Santos Pe\n",
      "Djalma Santos Ped\n",
      "Djalma Santos Pedr\n",
      "Djalma Santos Pedro\n",
      "Djalma Santos Pedros\n",
      "Djalma Santos Pedrosa\n"
     ]
    }
   ],
   "source": [
    "print(\"Digite neu nome:\")\n",
    "nome = str(input())\n",
    "cont = len(nome)\n",
    "i=0\n",
    "\n",
    "while i <= cont:\n",
    "    print(nome[:i])\n",
    "    i = i + 1"
   ]
  },
  {
   "cell_type": "code",
   "execution_count": 176,
   "id": "76d4e1c3-2a08-4def-930e-43f1335f0607",
   "metadata": {
    "tags": []
   },
   "outputs": [
    {
     "name": "stdout",
     "output_type": "stream",
     "text": [
      "Infome seu nome\n"
     ]
    },
    {
     "name": "stdin",
     "output_type": "stream",
     "text": [
      " Djalma Santos Pedrosa\n"
     ]
    },
    {
     "name": "stdout",
     "output_type": "stream",
     "text": [
      "\n",
      "D\n",
      "Dj\n",
      "Dja\n",
      "Djal\n",
      "Djalm\n",
      "Djalma\n",
      "Djalma \n",
      "Djalma S\n",
      "Djalma Sa\n",
      "Djalma San\n",
      "Djalma Sant\n",
      "Djalma Santo\n",
      "Djalma Santos\n",
      "Djalma Santos \n",
      "Djalma Santos P\n",
      "Djalma Santos Pe\n",
      "Djalma Santos Ped\n",
      "Djalma Santos Pedr\n",
      "Djalma Santos Pedro\n",
      "Djalma Santos Pedros\n",
      "Djalma Santos Pedrosa\n"
     ]
    }
   ],
   "source": [
    "print(\"Infome seu nome\")\n",
    "nome = input()\n",
    "\n",
    "for i in range(len(nome)+ 1):\n",
    "    print(nome[:i])"
   ]
  },
  {
   "cell_type": "markdown",
   "id": "0e015691-35c5-4724-ab40-009149cd534a",
   "metadata": {},
   "source": [
    "### Exercício 4\n",
    "A série de Fibonacci é formada pela seqüência 1,1,2,3,5,8,13,21,34,55,... (o próximo termo, a partir do terceiro, é sempre gerado a partir do somatório dos últimos dois). Faça um programa capaz de gerar a série até o n−ésimo termo (onde o valor n deve ser inserido pelo usuário)."
   ]
  },
  {
   "cell_type": "code",
   "execution_count": 182,
   "id": "da95ce7f-a068-4d00-a412-a1029db9e7e5",
   "metadata": {},
   "outputs": [
    {
     "name": "stdout",
     "output_type": "stream",
     "text": [
      "SÉRIE DE FIBONACCI\n",
      "Digite o tamanho da seguência de fibonacci que deseja ver:\n"
     ]
    },
    {
     "name": "stdin",
     "output_type": "stream",
     "text": [
      " 15\n"
     ]
    },
    {
     "name": "stdout",
     "output_type": "stream",
     "text": [
      "[1, 1, 2, 3, 5, 8, 13, 21, 34, 55, 89, 144, 233, 377, 610, 987, 1597]\n",
      "\n",
      "\n",
      "Digite um número da sequencia de fibonacci para saber sua posição:\n"
     ]
    },
    {
     "name": "stdin",
     "output_type": "stream",
     "text": [
      " 987\n"
     ]
    },
    {
     "name": "stdout",
     "output_type": "stream",
     "text": [
      "\n",
      "\n",
      "A posição do 987, é 15.\n"
     ]
    }
   ],
   "source": [
    "print(\"SÉRIE DE FIBONACCI\")\n",
    "print(\"Digite o tamanho da seguência de fibonacci que deseja ver:\")\n",
    "seq_fib = int(input())\n",
    "\n",
    "i = 1\n",
    "l_fibo =[]\n",
    "l_fibo.append(1)\n",
    "l_fibo_c = [1]\n",
    "\n",
    "while  i <= seq_fib:\n",
    "    l_fibo_c.append(l_fibo_c[i - 1 ] + l_fibo_c[i - 2])\n",
    "    i = i + 1\n",
    "\n",
    "fibo = l_fibo + l_fibo_c\n",
    "print(fibo)\n",
    "print(\"\\n\")\n",
    "\n",
    "print(\"Digite um número da sequencia de fibonacci para saber sua posição:\")\n",
    "numero = int(input())\n",
    "\n",
    "print(\"\\n\")\n",
    "print(\"A posição do {}, é {}.\".format(numero, fibo.index(numero)))"
   ]
  },
  {
   "cell_type": "code",
   "execution_count": 79,
   "id": "84eb8181-965d-4073-aaab-e458cee8112b",
   "metadata": {
    "scrolled": true,
    "tags": []
   },
   "outputs": [
    {
     "data": {
      "text/plain": [
       "[1,\n",
       " 1,\n",
       " 2,\n",
       " 3,\n",
       " 5,\n",
       " 8,\n",
       " 13,\n",
       " 21,\n",
       " 34,\n",
       " 55,\n",
       " 89,\n",
       " 144,\n",
       " 233,\n",
       " 377,\n",
       " 610,\n",
       " 987,\n",
       " 1597,\n",
       " 2584,\n",
       " 4181,\n",
       " 6765,\n",
       " 10946,\n",
       " 17711,\n",
       " 28657,\n",
       " 46368,\n",
       " 75025,\n",
       " 121393,\n",
       " 196418,\n",
       " 317811,\n",
       " 514229,\n",
       " 832040,\n",
       " 1346269,\n",
       " 2178309,\n",
       " 3524578,\n",
       " 5702887,\n",
       " 9227465,\n",
       " 14930352,\n",
       " 24157817,\n",
       " 39088169,\n",
       " 63245986,\n",
       " 102334155,\n",
       " 165580141,\n",
       " 267914296,\n",
       " 433494437,\n",
       " 701408733,\n",
       " 1134903170,\n",
       " 1836311903,\n",
       " 2971215073,\n",
       " 4807526976,\n",
       " 7778742049,\n",
       " 12586269025,\n",
       " 20365011074,\n",
       " 32951280099,\n",
       " 53316291173,\n",
       " 86267571272,\n",
       " 139583862445,\n",
       " 225851433717,\n",
       " 365435296162,\n",
       " 591286729879,\n",
       " 956722026041,\n",
       " 1548008755920,\n",
       " 2504730781961,\n",
       " 4052739537881,\n",
       " 6557470319842,\n",
       " 10610209857723,\n",
       " 17167680177565,\n",
       " 27777890035288,\n",
       " 44945570212853,\n",
       " 72723460248141,\n",
       " 117669030460994,\n",
       " 190392490709135,\n",
       " 308061521170129,\n",
       " 498454011879264,\n",
       " 806515533049393,\n",
       " 1304969544928657,\n",
       " 2111485077978050,\n",
       " 3416454622906707,\n",
       " 5527939700884757,\n",
       " 8944394323791464,\n",
       " 14472334024676221,\n",
       " 23416728348467685,\n",
       " 37889062373143906,\n",
       " 61305790721611591,\n",
       " 99194853094755497,\n",
       " 160500643816367088,\n",
       " 259695496911122585,\n",
       " 420196140727489673,\n",
       " 679891637638612258,\n",
       " 1100087778366101931,\n",
       " 1779979416004714189,\n",
       " 2880067194370816120,\n",
       " 4660046610375530309,\n",
       " 7540113804746346429,\n",
       " 12200160415121876738,\n",
       " 19740274219868223167,\n",
       " 31940434634990099905,\n",
       " 51680708854858323072,\n",
       " 83621143489848422977,\n",
       " 135301852344706746049,\n",
       " 218922995834555169026,\n",
       " 354224848179261915075,\n",
       " 573147844013817084101,\n",
       " 927372692193078999176]"
      ]
     },
     "execution_count": 79,
     "metadata": {},
     "output_type": "execute_result"
    }
   ],
   "source": [
    "fibo"
   ]
  },
  {
   "cell_type": "code",
   "execution_count": 185,
   "id": "e270e0ac-4667-4893-82a6-ec64bf23ff64",
   "metadata": {
    "tags": []
   },
   "outputs": [
    {
     "name": "stdout",
     "output_type": "stream",
     "text": [
      "Qual o tamanho da sequência de fibonacci você deseja ver?\n"
     ]
    },
    {
     "name": "stdin",
     "output_type": "stream",
     "text": [
      " 10\n"
     ]
    },
    {
     "name": "stdout",
     "output_type": "stream",
     "text": [
      "1\n",
      "1\n",
      "2\n",
      "3\n",
      "5\n",
      "8\n",
      "13\n",
      "21\n",
      "34\n",
      "55\n",
      "89\n",
      "144\n"
     ]
    }
   ],
   "source": [
    "print(\"Qual o tamanho da sequência de fibonacci você deseja ver?\")\n",
    "n = int(input())\n",
    "\n",
    "v0 = 0\n",
    "v1 = 1\n",
    "v = 1\n",
    "\n",
    "print(1)\n",
    "for i in range(n + 1):\n",
    "    print(v)\n",
    "    v0 = v1\n",
    "    v1 = v\n",
    "    v = v1 + v0"
   ]
  },
  {
   "cell_type": "markdown",
   "id": "ecf3d87c-e39d-4d88-ab2c-c13682208ec5",
   "metadata": {},
   "source": [
    "### Exercício 5\n",
    "Faça um programa que leia e valide as seguintes informações:\n",
    "- Nome: maior que 3 caracteres;\n",
    "- Idade: entre 0 e 150;\n",
    "- Salário: maior que zero;\n",
    "- Sexo: 'f' ou 'm';\n",
    "- Estado Civil: 's', 'c', 'v', 'd';"
   ]
  },
  {
   "cell_type": "code",
   "execution_count": 186,
   "id": "da8975e3-5bc8-441c-b360-afc4f21e1ac9",
   "metadata": {},
   "outputs": [
    {
     "name": "stdout",
     "output_type": "stream",
     "text": [
      "Digite seu nome:\n"
     ]
    },
    {
     "name": "stdin",
     "output_type": "stream",
     "text": [
      " Djalma\n"
     ]
    },
    {
     "name": "stdout",
     "output_type": "stream",
     "text": [
      "Digite sua idade\n"
     ]
    },
    {
     "name": "stdin",
     "output_type": "stream",
     "text": [
      " 39\n"
     ]
    },
    {
     "name": "stdout",
     "output_type": "stream",
     "text": [
      "Infome seu salário:\n"
     ]
    },
    {
     "name": "stdin",
     "output_type": "stream",
     "text": [
      " 899\n"
     ]
    },
    {
     "name": "stdout",
     "output_type": "stream",
     "text": [
      "Infome seu sexo: \"M\" - Masculino ou \"F\" -Feminino\n"
     ]
    },
    {
     "name": "stdin",
     "output_type": "stream",
     "text": [
      " m\n"
     ]
    },
    {
     "name": "stdout",
     "output_type": "stream",
     "text": [
      "Digite seu estado civil: \"S\" - Solteiro, \"C\" - Casado, \"V\" -  Viúvo, \"D\" - Divorciado\n",
      "Estado civil invalido! Digite novamente:\n"
     ]
    },
    {
     "name": "stdin",
     "output_type": "stream",
     "text": [
      " s\n"
     ]
    }
   ],
   "source": [
    "\n",
    "print(\"Digite seu nome:\")\n",
    "nome = str(input())\n",
    "ncont = len(nome)\n",
    "\n",
    "while ncont <= 3:\n",
    "    print(\"Nome invalido! Para um nome valido precisa ter mais que três caracteres\")\n",
    "    print(\"Digite seu nome:\")\n",
    "    nome = str(input())\n",
    "    ncont = len(nome)\n",
    "\n",
    "print(\"Digite sua idade\")\n",
    "idade = int(input())\n",
    "\n",
    "while idade < 0 or idade > 150:\n",
    "    print(\"Idade invalida!\")\n",
    "    print(\"Digite a sua idade:\")\n",
    "    idade = int(input())\n",
    "\n",
    "print(\"Infome seu salário:\")\n",
    "salario = float(input())\n",
    "\n",
    "while salario < 0:\n",
    "    print(\"Salário inválido! Digite um valor maior que zero:\")\n",
    "    salario = float(input())\n",
    "    \n",
    "\n",
    "print('Infome seu sexo: \"M\" - Masculino ou \"F\" -Feminino')\n",
    "sexo = input()\n",
    "\n",
    "while  sexo not in [\"M\", \"m\", \"F\", \"f\"]:\n",
    "    print(\"Sexo invalido...\")\n",
    "    print('Infome seu sexo: \"M\" - Masculino ou \"F\" -Feminino')\n",
    "    sexo = str(input())\n",
    "\n",
    "print('Digite seu estado civil: \"S\" - Solteiro, \"C\" - Casado, \"V\" -  Viúvo, \"D\" - Divorciado')\n",
    "civil = input\n",
    "\n",
    "while civil not in [\"S\", \"s\", \"C\", \"c\", \"V\", \"v\", \"D\", \"d\"]:\n",
    "    print(\"Estado civil invalido! Digite novamente:\")\n",
    "    civil = str(input())\n"
   ]
  },
  {
   "cell_type": "code",
   "execution_count": 100,
   "id": "a4c547a1-4fe6-4c09-9f17-7474d30d5760",
   "metadata": {
    "tags": []
   },
   "outputs": [
    {
     "data": {
      "text/plain": [
       "'M'"
      ]
     },
     "execution_count": 100,
     "metadata": {},
     "output_type": "execute_result"
    }
   ],
   "source": [
    "sexo"
   ]
  },
  {
   "cell_type": "markdown",
   "id": "787fcca7-3f8f-4636-8a14-fb36d2762d5c",
   "metadata": {},
   "source": [
    "### Exercício 6\n",
    "Faça um programa que peça um número inteiro e determine se ele é ou não um número primo. Um número primo é aquele que é divisível somente por ele mesmo e por 1. \n",
    "Dica: Utilize o operador aritmético `%`, que retorna o resto da divisão de dois números."
   ]
  },
  {
   "cell_type": "code",
   "execution_count": 166,
   "id": "f38fbe54-7723-4305-acfb-6d64ca5575c6",
   "metadata": {
    "tags": []
   },
   "outputs": [
    {
     "name": "stdin",
     "output_type": "stream",
     "text": [
      " 97\n"
     ]
    },
    {
     "name": "stdout",
     "output_type": "stream",
     "text": [
      "97 é um número primo\n"
     ]
    }
   ],
   "source": [
    "#### print(\"Digite um número:\")\n",
    "np = int(input())\n",
    "\n",
    "if np == 0 or np == 1:\n",
    "    print(\"{} NÃO é um número primo\".format(np))\n",
    "    \n",
    "elif np == 2:\n",
    "     print(\"{} é um número primo\".format(np))\n",
    "\n",
    "elif np >= 4:\n",
    "    if np % 2 == 0:\n",
    "        print(\"{} NÃO é um número primo\".format(np))\n",
    "    else:\n",
    "        print(\"{} é um número primo\".format(np))\n"
   ]
  },
  {
   "cell_type": "code",
   "execution_count": 192,
   "id": "2e9bbdd8-273a-421b-bdca-88a3a1615348",
   "metadata": {
    "tags": []
   },
   "outputs": [
    {
     "name": "stdout",
     "output_type": "stream",
     "text": [
      "Informe um número:\n"
     ]
    },
    {
     "name": "stdin",
     "output_type": "stream",
     "text": [
      " 2\n"
     ]
    },
    {
     "name": "stdout",
     "output_type": "stream",
     "text": [
      "É primo\n"
     ]
    }
   ],
   "source": [
    "print(\"Informe um número:\")\n",
    "n = int(input())\n",
    "\n",
    "check = 0\n",
    "\n",
    "for i in range(2, n):\n",
    "    if n % i == 0:\n",
    "        check = 1\n",
    "        break\n",
    "\n",
    "if check == 0:\n",
    "    print(\"É primo\")\n",
    "else:\n",
    "    print(\"Não é primo\")\n"
   ]
  },
  {
   "cell_type": "code",
   "execution_count": null,
   "id": "fc556614-2a6d-4712-9a1a-d81fb622291b",
   "metadata": {},
   "outputs": [],
   "source": []
  }
 ],
 "metadata": {
  "kernelspec": {
   "display_name": "Python 3 (ipykernel)",
   "language": "python",
   "name": "python3"
  },
  "language_info": {
   "codemirror_mode": {
    "name": "ipython",
    "version": 3
   },
   "file_extension": ".py",
   "mimetype": "text/x-python",
   "name": "python",
   "nbconvert_exporter": "python",
   "pygments_lexer": "ipython3",
   "version": "3.11.5"
  }
 },
 "nbformat": 4,
 "nbformat_minor": 5
}
