{
 "cells": [
  {
   "cell_type": "code",
   "execution_count": 25,
   "id": "88a4f430-d00c-4485-be16-77975d93e062",
   "metadata": {
    "tags": []
   },
   "outputs": [
    {
     "name": "stdout",
     "output_type": "stream",
     "text": [
      "CALCULADORA\n",
      "\n",
      "\n",
      "0 : Soma \n",
      "1 : Subtração \n",
      "2 : Multiplicação \n",
      "3 : Divisão \n",
      "4 : Exponenciação \n",
      "\n",
      "\n",
      "Escolha a operação que deseja realizar:\n"
     ]
    },
    {
     "name": "stdin",
     "output_type": "stream",
     "text": [
      " 0\n"
     ]
    },
    {
     "name": "stdout",
     "output_type": "stream",
     "text": [
      ">>> + : Operação 'SOMA' escolhida\n",
      "\n",
      "\n",
      "Digite o primeiro número:\n"
     ]
    },
    {
     "name": "stdin",
     "output_type": "stream",
     "text": [
      " 10\n"
     ]
    },
    {
     "name": "stdout",
     "output_type": "stream",
     "text": [
      "Digite o segundo número:\n"
     ]
    },
    {
     "name": "stdin",
     "output_type": "stream",
     "text": [
      " 10\n"
     ]
    },
    {
     "name": "stdout",
     "output_type": "stream",
     "text": [
      "\n",
      "\n",
      "=================\n",
      "\n",
      "\n",
      "10.0 + 10.0 = 20.0\n",
      "\n",
      "\n",
      "=================\n",
      "Deseja fazer outra operação? 0 - SIM, 1 - NÃO\n"
     ]
    },
    {
     "name": "stdin",
     "output_type": "stream",
     "text": [
      " 0\n"
     ]
    },
    {
     "name": "stdout",
     "output_type": "stream",
     "text": [
      "CALCULADORA\n",
      "\n",
      "\n",
      "0 : Soma \n",
      "1 : Subtração \n",
      "2 : Multiplicação \n",
      "3 : Divisão \n",
      "4 : Exponenciação \n",
      "\n",
      "\n",
      "Escolha a operação que deseja realizar:\n"
     ]
    },
    {
     "name": "stdin",
     "output_type": "stream",
     "text": [
      " 0\n"
     ]
    },
    {
     "name": "stdout",
     "output_type": "stream",
     "text": [
      ">>> + : Operação 'SOMA' escolhida\n",
      "\n",
      "\n",
      "Digite o primeiro número:\n"
     ]
    },
    {
     "name": "stdin",
     "output_type": "stream",
     "text": [
      " 10\n"
     ]
    },
    {
     "name": "stdout",
     "output_type": "stream",
     "text": [
      "Digite o segundo número:\n"
     ]
    },
    {
     "name": "stdin",
     "output_type": "stream",
     "text": [
      " 10\n"
     ]
    },
    {
     "name": "stdout",
     "output_type": "stream",
     "text": [
      "\n",
      "\n",
      "=================\n",
      "\n",
      "\n",
      "10.0 + 10.0 = 20.0\n",
      "\n",
      "\n",
      "=================\n",
      "Deseja fazer outra operação? 0 - SIM, 1 - NÃO\n"
     ]
    },
    {
     "name": "stdin",
     "output_type": "stream",
     "text": [
      " 1\n"
     ]
    }
   ],
   "source": [
    "import os\n",
    "operacao = 0\n",
    "\n",
    "while operacao == 0:\n",
    "    os.system('cls')\n",
    "    print(\"CALCULADORA\")\n",
    "    print(\"\\n\")\n",
    "    print(\"0 : Soma \")\n",
    "    print(\"1 : Subtração \")\n",
    "    print(\"2 : Multiplicação \")\n",
    "    print(\"3 : Divisão \")\n",
    "    print(\"4 : Exponenciação \")\n",
    "    print(\"\\n\")\n",
    "    print(\"Escolha a operação que deseja realizar:\")\n",
    "\n",
    "    escolha = int(input())   \n",
    "    if escolha == 0:\n",
    "    \n",
    "        print(\">>> + : Operação 'SOMA' escolhida\")\n",
    "        print(\"\\n\")\n",
    "        print(\"Digite o primeiro número:\")\n",
    "        na = float(input())\n",
    "        print(\"Digite o segundo número:\")\n",
    "        nb = float(input())\n",
    "        print(\"\\n\")\n",
    "        print(\"=================\")\n",
    "        print(\"\\n\")\n",
    "        print(\"{} + {} = {}\".format(na, nb, (na + nb)))\n",
    "        print(\"\\n\")\n",
    "        print(\"=================\")\n",
    "        print(\"Deseja fazer outra operação? 0 - SIM, 1 - NÃO\")\n",
    "        operacao = int(input())      \n",
    "        if operacao == 1:\n",
    "            break\n",
    "    \n",
    "    if escolha == 1:\n",
    "    \n",
    "        print(\">>> - : Operação 'SUBTRAÇÃO' escolhida\")\n",
    "        print(\"\\n\")\n",
    "        print(\"Digite o primeiro número:\")\n",
    "        na = float(input())\n",
    "        print(\"Digite o segundo número:\")\n",
    "        nb = float(input())\n",
    "        print(\"\\n\")\n",
    "        print(\"=================\")\n",
    "        print(\"\\n\")\n",
    "        print(\"{} - {} = {}\".format(na, nb, (na - nb)))\n",
    "        print(\"\\n\")\n",
    "        print(\"=================\")\n",
    "        print(\"Deseja fazer outra operação? 0 - SIM, 1 - NÃO\")\n",
    "        operacao = int(input())      \n",
    "        if operacao == 1:\n",
    "            break\n",
    "    \n",
    "    if escolha == 2:\n",
    "    \n",
    "        print(\">>> * : Operação 'MULTIPLICAÇÃO' escolhida\")\n",
    "        print(\"\\n\")\n",
    "        print(\"Digite o primeiro número:\")\n",
    "        na = float(input())\n",
    "        print(\"Digite o segundo número:\")\n",
    "        nb = float(input())\n",
    "        print(\"\\n\")\n",
    "        print(\"=================\")\n",
    "        print(\"\\n\")\n",
    "        print(\"{} * {} = {}\".format(na, nb, (na * nb)))\n",
    "        print(\"\\n\")\n",
    "        print(\"=================\")\n",
    "        print(\"Deseja fazer outra operação? 0 - SIM, 1 - NÃO\")\n",
    "        operacao = int(input())      \n",
    "        if operacao == 1:\n",
    "            break\n",
    "    \n",
    "    if escolha == 3:\n",
    "    \n",
    "        print(\">>> / : Operação 'DIVISÃO' escolhida\")\n",
    "        print(\"\\n\")\n",
    "        print(\"Digite o primeiro número:\")\n",
    "        na = float(input())\n",
    "        print(\"Digite o segundo número:\")\n",
    "        nb = float(input())\n",
    "        print(\"\\n\")\n",
    "        print(\"=================\")\n",
    "        print(\"\\n\")\n",
    "        print(\"{} / {} = {}\".format(na, nb, (na / nb)))\n",
    "        print(\"\\n\")\n",
    "        print(\"=================\")\n",
    "        print(\"Deseja fazer outra operação? 0 - SIM, 1 - NÃO\")\n",
    "        operacao = int(input())      \n",
    "        if operacao == 1:\n",
    "            break\n",
    "    \n",
    "    if escolha == 4:\n",
    "    \n",
    "        print(\">>> ** : Operação 'EXPONENCIAÇÃO' escolhida\")\n",
    "        print(\"\\n\")\n",
    "        print(\"Digite o primeiro número:\")\n",
    "        na = float(input())\n",
    "        print(\"Digite o segundo número:\")\n",
    "        nb = float(input())\n",
    "        print(\"\\n\")\n",
    "        print(\"=================\")\n",
    "        print(\"\\n\")\n",
    "        print(\"{} ** {} = {}\".format(na, nb, (na ** nb)))\n",
    "        print(\"\\n\")\n",
    "        print(\"=================\")\n",
    "        print(\"Deseja fazer outra operação? 0 - SIM, 1 - NÃO\")\n",
    "        operacao = int(input())      \n",
    "        if operacao == 1:\n",
    "            break"
   ]
  },
  {
   "cell_type": "code",
   "execution_count": 8,
   "id": "d56b021f-5a4c-431f-9a7d-3cccd319833c",
   "metadata": {
    "tags": []
   },
   "outputs": [
    {
     "data": {
      "text/plain": [
       "0"
      ]
     },
     "execution_count": 8,
     "metadata": {},
     "output_type": "execute_result"
    }
   ],
   "source": [
    "escolha"
   ]
  },
  {
   "cell_type": "code",
   "execution_count": null,
   "id": "b9f8037b-ac9b-49a9-b8e4-05ee6050bf4f",
   "metadata": {},
   "outputs": [],
   "source": []
  }
 ],
 "metadata": {
  "kernelspec": {
   "display_name": "Python 3 (ipykernel)",
   "language": "python",
   "name": "python3"
  },
  "language_info": {
   "codemirror_mode": {
    "name": "ipython",
    "version": 3
   },
   "file_extension": ".py",
   "mimetype": "text/x-python",
   "name": "python",
   "nbconvert_exporter": "python",
   "pygments_lexer": "ipython3",
   "version": "3.11.5"
  }
 },
 "nbformat": 4,
 "nbformat_minor": 5
}
