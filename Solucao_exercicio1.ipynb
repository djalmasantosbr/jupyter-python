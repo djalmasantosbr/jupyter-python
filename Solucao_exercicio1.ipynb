{
 "cells": [
  {
   "cell_type": "markdown",
   "id": "1dda7706-827a-4cc3-b619-6fc685ff2d50",
   "metadata": {},
   "source": [
    "\n",
    "## Exercícios #1 - Estruturas de dados\n"
   ]
  },
  {
   "cell_type": "markdown",
   "id": "63d2ff23-ca93-4a1e-bc17-c9c1f2147768",
   "metadata": {},
   "source": [
    "### Exercício 1\n",
    "Utilizando o built-in method input(), crie um programa que receba a altura e o peso de uma pessoa e imprima na tela o IMC da mesma."
   ]
  },
  {
   "cell_type": "code",
   "execution_count": 2,
   "id": "33401a56-43fb-4836-8037-9cf04d952db5",
   "metadata": {
    "tags": []
   },
   "outputs": [
    {
     "name": "stdout",
     "output_type": "stream",
     "text": [
      "Bem vindo a calculadora IMC!\n",
      "Por favor, informe sua altura:\n"
     ]
    },
    {
     "name": "stdin",
     "output_type": "stream",
     "text": [
      " 1.52\n"
     ]
    },
    {
     "name": "stdout",
     "output_type": "stream",
     "text": [
      "Digite seu peso:\n"
     ]
    },
    {
     "name": "stdin",
     "output_type": "stream",
     "text": [
      " 85\n"
     ]
    },
    {
     "name": "stdout",
     "output_type": "stream",
     "text": [
      "Calculando....\n",
      "==============\n",
      "Seu IMC é: 36.79\n"
     ]
    }
   ],
   "source": [
    "# Peso / altura ** 2\n",
    "\n",
    "import time\n",
    "\n",
    "print(\"Bem vindo a calculadora IMC!\")\n",
    "print(\"Por favor, informe sua altura:\")\n",
    "altura = float(input())\n",
    "print(\"Digite seu peso:\")\n",
    "peso = float(input())\n",
    "\n",
    "print(\"Calculando....\")\n",
    "time.sleep(1)\n",
    "print(\"==============\")\n",
    "print(\"Seu IMC é: {:.2f}\".format(peso / altura ** 2))\n",
    "\n"
   ]
  },
  {
   "cell_type": "markdown",
   "id": "b0633043-5e93-4fff-92f7-53bce89370e9",
   "metadata": {},
   "source": [
    "### Exercício 2 \n",
    "Escreva um programa que pergunte o nome completo do usuário e cumprimente o mesmo pelo primeiro nome."
   ]
  },
  {
   "cell_type": "code",
   "execution_count": 4,
   "id": "0ddac61d-21fd-44ac-bc83-f844090c1024",
   "metadata": {
    "tags": []
   },
   "outputs": [
    {
     "name": "stdout",
     "output_type": "stream",
     "text": [
      "Digite seu nome completo\n"
     ]
    },
    {
     "name": "stdin",
     "output_type": "stream",
     "text": [
      " Djalma Lima Barbosa Santos\n"
     ]
    },
    {
     "name": "stdout",
     "output_type": "stream",
     "text": [
      "Ola Djalma!\n"
     ]
    }
   ],
   "source": [
    "print(\"Digite seu nome completo\")\n",
    "nome = input()\n",
    "primeiro_nome = nome.split()\n",
    "print(\"Ola {}!\".format(primeiro_nome[0]))"
   ]
  },
  {
   "cell_type": "markdown",
   "id": "9fb3df81-2c70-4462-a008-dd58d7998c06",
   "metadata": {},
   "source": [
    "\n",
    "### Exercício 3\n",
    "Desenho um código que extraia o domínio de um e-mail informado."
   ]
  },
  {
   "cell_type": "code",
   "execution_count": 6,
   "id": "1bc2715e-46a5-4b15-ab9a-58ea4d2f5eed",
   "metadata": {
    "tags": []
   },
   "outputs": [
    {
     "name": "stdout",
     "output_type": "stream",
     "text": [
      "Digite seu melhor e-mail:\n"
     ]
    },
    {
     "name": "stdin",
     "output_type": "stream",
     "text": [
      " maria@hotmail.com\n"
     ]
    },
    {
     "name": "stdout",
     "output_type": "stream",
     "text": [
      "O dominio informado foi: hotmail.com\n"
     ]
    }
   ],
   "source": [
    "print(\"Digite seu melhor e-mail:\")\n",
    "email = input()\n",
    "dominio = email.split('@')[-1]\n",
    "print(\"O dominio informado foi: {}\".format(dominio))"
   ]
  },
  {
   "cell_type": "markdown",
   "id": "b244a045-7c39-4665-b802-f66d11e7d1a2",
   "metadata": {},
   "source": [
    "### Exercício 4 \n",
    "Faça um programa para uma loja de tintas. A pessoa informa a área em m2 que deseja pintar, e o script calculará a quantidade de latas de tinta que a pessoa deve comprar e o valor. Considere que cada litro de tinta pinta 3m2, que cada lata contém 18L e que custa R$ 80."
   ]
  },
  {
   "cell_type": "code",
   "execution_count": 5,
   "id": "1cbb9a50-c418-466d-8e5d-1728a20042d0",
   "metadata": {},
   "outputs": [
    {
     "name": "stdout",
     "output_type": "stream",
     "text": [
      "====== LOJA DE TINTAS PELILIU ======\n",
      "infome a área em Metros Quadrado que deseja pintar:\n"
     ]
    },
    {
     "name": "stdin",
     "output_type": "stream",
     "text": [
      " 80\n"
     ]
    },
    {
     "name": "stdout",
     "output_type": "stream",
     "text": [
      "Você precisará de 1 latas e elas custarão 80 reais\n"
     ]
    }
   ],
   "source": [
    "print(\"====== LOJA DE TINTAS PELILIU ======\")\n",
    "print(\"Infome a área em Metros Quadrado que deseja pintar:\")\n",
    "area_pintar = float(input())\n",
    "\n",
    "volume_necessario = area_pintar /3\n",
    "latas = int(volume_necessario / 18)\n",
    "custo = latas * 80\n",
    "\n",
    "print(\"Você precisará de {} latas e elas custarão {} reais\".format(latas, custo))\n"
   ]
  },
  {
   "cell_type": "markdown",
   "id": "b87a2c49-88ec-46ab-8a27-48a860c524fe",
   "metadata": {},
   "source": [
    "### Exercício 5\n",
    "Faça um Programa que pergunte quanto você ganha por hora e o número de horas trabalhadas no mês. Calcule e mostre o total do seu salário no referido mês, sabendo-se que são descontados 11% para o Imposto de Renda, 8% para o INSS e 5% para o sindicato, faça um programa que nos dê:\n",
    "1. Salário bruto.\n",
    "2. Quanto pagou ao INSS.\n",
    "3. Quanto pagou ao sindicato.\n",
    "4. O salário líquido."
   ]
  },
  {
   "cell_type": "code",
   "execution_count": 10,
   "id": "693de0fb-cc65-44ef-9ffa-d76747af9550",
   "metadata": {
    "tags": []
   },
   "outputs": [
    {
     "name": "stdout",
     "output_type": "stream",
     "text": [
      "SALÁRIO ON LINE\n",
      "Quanto você ganha por hora trabalhada?\n"
     ]
    },
    {
     "name": "stdin",
     "output_type": "stream",
     "text": [
      " 25\n"
     ]
    },
    {
     "name": "stdout",
     "output_type": "stream",
     "text": [
      "Quantas horas você Trabalha por mês? \n"
     ]
    },
    {
     "name": "stdin",
     "output_type": "stream",
     "text": [
      " 220\n"
     ]
    },
    {
     "name": "stdout",
     "output_type": "stream",
     "text": [
      "1. Sálario bruto: 5500.00\n",
      "2. Quanto pagou de INSS: 440.00\n",
      "3. Quanto pagou ao sindicato: 275.00\n",
      "4. Quanto pagou de Imposto de Renda: 605.00\n",
      "5. Salário líquido: 4180.00\n"
     ]
    }
   ],
   "source": [
    "print(\"SALÁRIO ON LINE\")\n",
    "print(\"Quanto você ganha por hora trabalhada?\")\n",
    "renda_hora = float(input())\n",
    "print(\"Quantas horas você Trabalha por mês? \")\n",
    "hora_trabalhada = float(input())\n",
    "\n",
    "salario_bruto = hora_trabalhada * renda_hora\n",
    "desc_ir = (salario_bruto * 0.11)\n",
    "desc_inss = (salario_bruto * 0.08)\n",
    "desc_sindicato = (salario_bruto * 0.05)\n",
    "salario_liquido = salario_bruto - desc_inss - desc_sindicato - desc_ir\n",
    "\n",
    "print(\"1. Sálario bruto: {:.2f}\".format(salario_bruto))\n",
    "print(\"2. Quanto pagou de INSS: {:.2f}\".format( desc_inss))\n",
    "print(\"3. Quanto pagou ao sindicato: {:.2f}\".format(desc_sindicato))\n",
    "print(\"4. Quanto pagou de Imposto de Renda: {:.2f}\".format(desc_ir))\n",
    "print(\"5. Salário líquido: {:.2f}\".format(salario_liquido))\n"
   ]
  },
  {
   "cell_type": "code",
   "execution_count": null,
   "id": "181cc0b4-e95d-4a91-8c03-9382eff606a1",
   "metadata": {},
   "outputs": [],
   "source": []
  }
 ],
 "metadata": {
  "kernelspec": {
   "display_name": "Python 3 (ipykernel)",
   "language": "python",
   "name": "python3"
  },
  "language_info": {
   "codemirror_mode": {
    "name": "ipython",
    "version": 3
   },
   "file_extension": ".py",
   "mimetype": "text/x-python",
   "name": "python",
   "nbconvert_exporter": "python",
   "pygments_lexer": "ipython3",
   "version": "3.11.5"
  }
 },
 "nbformat": 4,
 "nbformat_minor": 5
}
