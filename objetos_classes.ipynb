{
 "cells": [
  {
   "cell_type": "markdown",
   "id": "1783129c-9b33-4041-bda0-9d74ef400774",
   "metadata": {},
   "source": [
    "## Objetos e Classes"
   ]
  },
  {
   "cell_type": "code",
   "execution_count": 1,
   "id": "912338b6-e9a3-40c9-b6fb-1f338fb470b9",
   "metadata": {
    "tags": []
   },
   "outputs": [],
   "source": [
    "l = [1, 2, 3]"
   ]
  },
  {
   "cell_type": "code",
   "execution_count": 2,
   "id": "15916ac5-dc49-45df-a180-1eaff4b4d887",
   "metadata": {
    "tags": []
   },
   "outputs": [
    {
     "name": "stdout",
     "output_type": "stream",
     "text": [
      "<class 'list'>\n"
     ]
    }
   ],
   "source": [
    "print(type(l))"
   ]
  },
  {
   "cell_type": "code",
   "execution_count": 3,
   "id": "cf81969d-e1f3-46e2-af52-2c8fcbc53079",
   "metadata": {
    "tags": []
   },
   "outputs": [],
   "source": [
    "l.append(4)"
   ]
  },
  {
   "cell_type": "code",
   "execution_count": 4,
   "id": "3a0b2853-8a5d-4731-9385-b39c5174c995",
   "metadata": {
    "tags": []
   },
   "outputs": [
    {
     "data": {
      "text/plain": [
       "[1, 2, 3, 4]"
      ]
     },
     "execution_count": 4,
     "metadata": {},
     "output_type": "execute_result"
    }
   ],
   "source": [
    "l"
   ]
  },
  {
   "cell_type": "code",
   "execution_count": 5,
   "id": "f433a3c1-070e-4671-99e9-778a253662c7",
   "metadata": {
    "tags": []
   },
   "outputs": [],
   "source": [
    "string_ = \"str\""
   ]
  },
  {
   "cell_type": "code",
   "execution_count": 6,
   "id": "49ac69fb-957c-4f60-a1e9-13d4769cce50",
   "metadata": {
    "tags": []
   },
   "outputs": [
    {
     "name": "stdout",
     "output_type": "stream",
     "text": [
      "<class 'str'>\n"
     ]
    }
   ],
   "source": [
    "print(type(string_))"
   ]
  },
  {
   "cell_type": "code",
   "execution_count": null,
   "id": "991ec4b6-faef-4775-84c7-1fbbf36571e1",
   "metadata": {},
   "outputs": [],
   "source": [
    "class Exemplo(object)"
   ]
  },
  {
   "cell_type": "markdown",
   "id": "ef641eff-a0e4-4821-bab3-b610681ffffb",
   "metadata": {},
   "source": [
    "Pode ser criado desse forma uma classe ou da forma abaixo sem (object)"
   ]
  },
  {
   "cell_type": "code",
   "execution_count": 7,
   "id": "6940beda-6ade-47e7-a8c1-145a563d6159",
   "metadata": {
    "tags": []
   },
   "outputs": [],
   "source": [
    "class Exemplo:\n",
    "    pass"
   ]
  },
  {
   "cell_type": "code",
   "execution_count": 8,
   "id": "a69d9805-ab6a-4735-8dcb-935d9390b5ae",
   "metadata": {
    "tags": []
   },
   "outputs": [],
   "source": [
    "x = Exemplo()"
   ]
  },
  {
   "cell_type": "code",
   "execution_count": 9,
   "id": "4540f70a-0117-4339-8b14-d85f30a8b8e0",
   "metadata": {
    "tags": []
   },
   "outputs": [
    {
     "name": "stdout",
     "output_type": "stream",
     "text": [
      "<class '__main__.Exemplo'>\n"
     ]
    }
   ],
   "source": [
    "print(type(x))"
   ]
  },
  {
   "cell_type": "code",
   "execution_count": 59,
   "id": "70e29fbd-4ba2-4f24-b65d-54b603b30805",
   "metadata": {
    "tags": []
   },
   "outputs": [],
   "source": [
    "class Dog:\n",
    "    def __init__(self, raca):\n",
    "        self.raca = raca\n",
    "        self.idade = 10\n",
    "        print(\"{} criado!\".format(raca))\n",
    "        \n",
    "    def envelhecer(self):\n",
    "        self.idade += 1\n",
    "        return self.idade"
   ]
  },
  {
   "cell_type": "code",
   "execution_count": 45,
   "id": "a614467d-e9d6-45e3-92dc-a8239fa84e01",
   "metadata": {
    "tags": []
   },
   "outputs": [
    {
     "name": "stdout",
     "output_type": "stream",
     "text": [
      "Labrador criado!\n",
      "Huskie criado!\n"
     ]
    }
   ],
   "source": [
    "dog = Dog(\"Labrador\")\n",
    "dog2 = Dog(\"Huskie\")"
   ]
  },
  {
   "cell_type": "code",
   "execution_count": 60,
   "id": "1fd8b5fb-0553-459f-a091-b3aef1de2b4b",
   "metadata": {
    "tags": []
   },
   "outputs": [],
   "source": [
    "dog2.envelhecer()"
   ]
  },
  {
   "cell_type": "code",
   "execution_count": 50,
   "id": "75b0e93c-beb3-4db8-bb31-3f83fd3ba4a9",
   "metadata": {
    "tags": []
   },
   "outputs": [
    {
     "name": "stdout",
     "output_type": "stream",
     "text": [
      "12\n",
      "Labrador\n"
     ]
    }
   ],
   "source": [
    "print(dog.idade)\n",
    "print(dog.raca)"
   ]
  },
  {
   "cell_type": "code",
   "execution_count": 61,
   "id": "7723f21a-08ea-49f9-b83c-4eb721a7b031",
   "metadata": {
    "tags": []
   },
   "outputs": [
    {
     "name": "stdout",
     "output_type": "stream",
     "text": [
      "15\n",
      "Huskie\n"
     ]
    }
   ],
   "source": [
    "print(dog2.idade)\n",
    "print(dog2.raca)"
   ]
  },
  {
   "cell_type": "code",
   "execution_count": 74,
   "id": "fb6ff64e-05d5-4cf7-9afe-5a90aa842da0",
   "metadata": {
    "tags": []
   },
   "outputs": [],
   "source": [
    "class Circle:\n",
    "    def __init__(self, raio=1):\n",
    "        self.raio = raio\n",
    "        \n",
    "    def calcula_area(self):\n",
    "        return self.raio * self.raio * 3.14\n",
    "    \n",
    "    def"
   ]
  },
  {
   "cell_type": "code",
   "execution_count": 70,
   "id": "496d4bb8-ca21-4315-aecc-53f9b81db5ad",
   "metadata": {
    "tags": []
   },
   "outputs": [],
   "source": [
    "c1 = Circle()\n",
    "c2 = Circle(2)"
   ]
  },
  {
   "cell_type": "code",
   "execution_count": 76,
   "id": "70f65af5-cca1-49b6-bb20-c2c99f751194",
   "metadata": {
    "tags": []
   },
   "outputs": [
    {
     "data": {
      "text/plain": [
       "1"
      ]
     },
     "execution_count": 76,
     "metadata": {},
     "output_type": "execute_result"
    }
   ],
   "source": [
    "c1.raio"
   ]
  },
  {
   "cell_type": "code",
   "execution_count": 72,
   "id": "758088d2-0983-48ea-a793-7a224e277a55",
   "metadata": {
    "tags": []
   },
   "outputs": [
    {
     "data": {
      "text/plain": [
       "2"
      ]
     },
     "execution_count": 72,
     "metadata": {},
     "output_type": "execute_result"
    }
   ],
   "source": [
    "c2.raio"
   ]
  },
  {
   "cell_type": "code",
   "execution_count": 77,
   "id": "31904554-586d-4981-8bae-604faefdf4f3",
   "metadata": {
    "tags": []
   },
   "outputs": [
    {
     "data": {
      "text/plain": [
       "3.14"
      ]
     },
     "execution_count": 77,
     "metadata": {},
     "output_type": "execute_result"
    }
   ],
   "source": [
    "c1.calcula_area()"
   ]
  },
  {
   "cell_type": "code",
   "execution_count": 78,
   "id": "b34979da-588b-4f0e-97ec-d0606dea7b1b",
   "metadata": {
    "tags": []
   },
   "outputs": [
    {
     "data": {
      "text/plain": [
       "12.56"
      ]
     },
     "execution_count": 78,
     "metadata": {},
     "output_type": "execute_result"
    }
   ],
   "source": [
    "c2.calcula_area()"
   ]
  },
  {
   "cell_type": "code",
   "execution_count": null,
   "id": "77c4393a-ed0d-48f3-b848-006b448e849f",
   "metadata": {},
   "outputs": [],
   "source": []
  }
 ],
 "metadata": {
  "kernelspec": {
   "display_name": "Python 3 (ipykernel)",
   "language": "python",
   "name": "python3"
  },
  "language_info": {
   "codemirror_mode": {
    "name": "ipython",
    "version": 3
   },
   "file_extension": ".py",
   "mimetype": "text/x-python",
   "name": "python",
   "nbconvert_exporter": "python",
   "pygments_lexer": "ipython3",
   "version": "3.11.5"
  }
 },
 "nbformat": 4,
 "nbformat_minor": 5
}
