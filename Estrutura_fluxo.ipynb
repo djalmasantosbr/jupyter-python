{
 "cells": [
  {
   "cell_type": "markdown",
   "id": "88646abb-a790-4485-960f-a340c8959d8e",
   "metadata": {},
   "source": [
    "## If, elif e else"
   ]
  },
  {
   "cell_type": "code",
   "execution_count": 1,
   "id": "25e68de1-8364-484c-91f5-b0502e28c139",
   "metadata": {
    "tags": []
   },
   "outputs": [
    {
     "name": "stdout",
     "output_type": "stream",
     "text": [
      "Está muito quente\n"
     ]
    }
   ],
   "source": [
    "temp = 31\n",
    "\n",
    "if temp > 30:\n",
    "    print(\"Está muito quente\")"
   ]
  },
  {
   "cell_type": "code",
   "execution_count": 7,
   "id": "40ab5e96-d0b8-4de3-9095-4b93233dcebb",
   "metadata": {
    "tags": []
   },
   "outputs": [
    {
     "name": "stdout",
     "output_type": "stream",
     "text": [
      "Esta muito frio.\n"
     ]
    }
   ],
   "source": [
    "temp =  -10\n",
    "\n",
    "if temp >= 30:\n",
    "    print(\"Esta quente.\")\n",
    "    print(\"Esta quente.\")\n",
    "\n",
    "elif temp < 0:\n",
    "    print(\"Esta muito frio.\")\n",
    "    \n",
    "    if temp < -50:\n",
    "        print(\"congelando...\")\n",
    "\n",
    "else:\n",
    "    print(\"A temperatura esta normal.\") "
   ]
  },
  {
   "cell_type": "code",
   "execution_count": null,
   "id": "80cc3fe7-d0d2-4c26-9c44-9b1dba13c0f3",
   "metadata": {},
   "outputs": [],
   "source": []
  }
 ],
 "metadata": {
  "kernelspec": {
   "display_name": "Python 3 (ipykernel)",
   "language": "python",
   "name": "python3"
  },
  "language_info": {
   "codemirror_mode": {
    "name": "ipython",
    "version": 3
   },
   "file_extension": ".py",
   "mimetype": "text/x-python",
   "name": "python",
   "nbconvert_exporter": "python",
   "pygments_lexer": "ipython3",
   "version": "3.11.5"
  }
 },
 "nbformat": 4,
 "nbformat_minor": 5
}
