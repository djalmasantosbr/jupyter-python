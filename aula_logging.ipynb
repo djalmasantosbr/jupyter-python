{
 "cells": [
  {
   "cell_type": "code",
   "execution_count": 1,
   "id": "4e7a1a24-6d73-40f1-8c66-bde5e76fe6f3",
   "metadata": {
    "tags": []
   },
   "outputs": [],
   "source": [
    "import logging"
   ]
  },
  {
   "cell_type": "code",
   "execution_count": 2,
   "id": "da111a84-2021-4d21-be8f-4561372a2ebc",
   "metadata": {
    "tags": []
   },
   "outputs": [],
   "source": [
    "log_format = \"%(levelname)s %(asctime)s - %(message)s\""
   ]
  },
  {
   "cell_type": "code",
   "execution_count": 3,
   "id": "48292a59-b977-42ae-96dd-8aa6d0f4a439",
   "metadata": {
    "tags": []
   },
   "outputs": [],
   "source": [
    "logging.basicConfig(filename=\"diario.log\", level=logging.DEBUG, format=log_format)"
   ]
  },
  {
   "cell_type": "markdown",
   "id": "cc4d2edd-cda9-4f5e-8a1d-67ac10275d82",
   "metadata": {},
   "source": [
    "Se você precisar que o programa rescreva sobre o arquivo acrescente o comando filemode=\"w\"\n",
    "Para mais informações sobre formatação entre no site: https://docs.python.org/3/library/logging.html#formatter-objects"
   ]
  },
  {
   "cell_type": "code",
   "execution_count": 4,
   "id": "437e5ac3-a806-470b-a4a6-4ac7d127ae58",
   "metadata": {
    "tags": []
   },
   "outputs": [],
   "source": [
    "log = logging.getLogger()"
   ]
  },
  {
   "cell_type": "code",
   "execution_count": 5,
   "id": "bc967722-1403-47db-8cca-8b7dea4d67de",
   "metadata": {
    "tags": []
   },
   "outputs": [],
   "source": [
    "log.info(\" Ola\")\n",
    "log.critical(\" Erro grave\")\n",
    "log.error(\" Erro do tipo Error\")\n",
    "log.debug(\" Erro do tipo debug\")\n",
    "log.warning(\" Erro grave\")"
   ]
  },
  {
   "cell_type": "code",
   "execution_count": 8,
   "id": "e4fd694b-b65a-46b8-853e-2c16732a0999",
   "metadata": {
    "tags": []
   },
   "outputs": [
    {
     "data": {
      "text/plain": [
       "10"
      ]
     },
     "execution_count": 8,
     "metadata": {},
     "output_type": "execute_result"
    }
   ],
   "source": [
    "log.level"
   ]
  },
  {
   "cell_type": "code",
   "execution_count": null,
   "id": "cd3baf50-9fcf-4d58-944d-f7a914eaca88",
   "metadata": {},
   "outputs": [],
   "source": []
  }
 ],
 "metadata": {
  "kernelspec": {
   "display_name": "Python 3 (ipykernel)",
   "language": "python",
   "name": "python3"
  },
  "language_info": {
   "codemirror_mode": {
    "name": "ipython",
    "version": 3
   },
   "file_extension": ".py",
   "mimetype": "text/x-python",
   "name": "python",
   "nbconvert_exporter": "python",
   "pygments_lexer": "ipython3",
   "version": "3.11.5"
  }
 },
 "nbformat": 4,
 "nbformat_minor": 5
}
