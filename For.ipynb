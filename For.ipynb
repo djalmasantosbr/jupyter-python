{
 "cells": [
  {
   "cell_type": "markdown",
   "id": "f30428a0-cf8c-4d9d-be37-d9e0e4f0358f",
   "metadata": {},
   "source": [
    "## For -  Estrutura de laço"
   ]
  },
  {
   "cell_type": "code",
   "execution_count": 1,
   "id": "a45ff230-2a32-446b-b554-6eefb7548be6",
   "metadata": {
    "tags": []
   },
   "outputs": [
    {
     "data": {
      "text/plain": [
       "[0, 1, 2, 3, 4, 5, 6, 7, 8, 9]"
      ]
     },
     "execution_count": 1,
     "metadata": {},
     "output_type": "execute_result"
    }
   ],
   "source": [
    "list(range(10))"
   ]
  },
  {
   "cell_type": "code",
   "execution_count": 2,
   "id": "98849155-214c-49d8-8d83-68fd1935ea1d",
   "metadata": {
    "tags": []
   },
   "outputs": [
    {
     "name": "stdout",
     "output_type": "stream",
     "text": [
      "0\n",
      "1\n",
      "2\n",
      "3\n",
      "4\n",
      "5\n",
      "6\n",
      "7\n",
      "8\n",
      "9\n"
     ]
    }
   ],
   "source": [
    "for i in range(10):\n",
    "    print(i)"
   ]
  },
  {
   "cell_type": "code",
   "execution_count": 3,
   "id": "677b8e46-8d2c-4755-a99c-76ea94b43734",
   "metadata": {
    "tags": []
   },
   "outputs": [
    {
     "name": "stdout",
     "output_type": "stream",
     "text": [
      "Olá\n",
      "0\n",
      "Olá\n",
      "1\n",
      "Olá\n",
      "2\n",
      "Olá\n",
      "3\n",
      "Olá\n",
      "4\n",
      "Olá\n",
      "5\n",
      "Olá\n",
      "6\n",
      "Olá\n",
      "7\n",
      "Olá\n",
      "8\n",
      "Olá\n",
      "9\n"
     ]
    }
   ],
   "source": [
    "for i in range(10):\n",
    "    print(\"Olá\")\n",
    "    print(i)"
   ]
  },
  {
   "cell_type": "code",
   "execution_count": 4,
   "id": "9ed5dad7-9761-4d5c-bb56-0c7961f056bf",
   "metadata": {
    "tags": []
   },
   "outputs": [
    {
     "name": "stdout",
     "output_type": "stream",
     "text": [
      "a\n",
      "b\n",
      "c\n"
     ]
    }
   ],
   "source": [
    "l = (\"a\", \"b\", \"c\")\n",
    "for i in l:\n",
    "    print(i)"
   ]
  },
  {
   "cell_type": "code",
   "execution_count": 5,
   "id": "f05cd820-80db-4501-bdf8-d18725a05129",
   "metadata": {
    "tags": []
   },
   "outputs": [
    {
     "name": "stdout",
     "output_type": "stream",
     "text": [
      "r\n",
      "o\n",
      "d\n",
      "r\n",
      "i\n",
      "g\n",
      "o\n"
     ]
    }
   ],
   "source": [
    "l = \"rodrigo\"\n",
    "for i in l:\n",
    "    print(i)"
   ]
  },
  {
   "cell_type": "code",
   "execution_count": 6,
   "id": "46a63bfa-5a1f-40ae-baeb-77592975982e",
   "metadata": {
    "tags": []
   },
   "outputs": [
    {
     "data": {
      "text/plain": [
       "1"
      ]
     },
     "execution_count": 6,
     "metadata": {},
     "output_type": "execute_result"
    }
   ],
   "source": [
    "5 % 2"
   ]
  },
  {
   "cell_type": "code",
   "execution_count": 7,
   "id": "c38f24f0-be47-4267-8ec3-57f7ce038beb",
   "metadata": {
    "scrolled": true,
    "tags": []
   },
   "outputs": [
    {
     "name": "stdout",
     "output_type": "stream",
     "text": [
      "0 é par.\n",
      "2 é par.\n",
      "4 é par.\n",
      "6 é par.\n",
      "8 é par.\n",
      "10 é par.\n",
      "12 é par.\n",
      "14 é par.\n",
      "16 é par.\n",
      "18 é par.\n",
      "20 é par.\n",
      "22 é par.\n",
      "24 é par.\n",
      "26 é par.\n",
      "28 é par.\n",
      "30 é par.\n",
      "32 é par.\n",
      "34 é par.\n",
      "36 é par.\n",
      "38 é par.\n",
      "40 é par.\n",
      "42 é par.\n",
      "44 é par.\n",
      "46 é par.\n",
      "48 é par.\n",
      "50 é par.\n",
      "52 é par.\n",
      "54 é par.\n",
      "56 é par.\n",
      "58 é par.\n",
      "60 é par.\n",
      "62 é par.\n",
      "64 é par.\n",
      "66 é par.\n",
      "68 é par.\n",
      "70 é par.\n",
      "72 é par.\n",
      "74 é par.\n",
      "76 é par.\n",
      "78 é par.\n",
      "80 é par.\n",
      "82 é par.\n",
      "84 é par.\n",
      "86 é par.\n",
      "88 é par.\n",
      "90 é par.\n",
      "92 é par.\n",
      "94 é par.\n",
      "96 é par.\n",
      "98 é par.\n"
     ]
    }
   ],
   "source": [
    "for i in range(100):\n",
    "    if i % 2 == 0:\n",
    "        print(\"{} é par.\".format(i))"
   ]
  },
  {
   "cell_type": "code",
   "execution_count": 8,
   "id": "8c7e82a0-eb23-4ca5-9e64-47a1b0109b2c",
   "metadata": {
    "scrolled": true,
    "tags": []
   },
   "outputs": [
    {
     "name": "stdout",
     "output_type": "stream",
     "text": [
      "1 é impar\n",
      "3 é impar\n",
      "5 é impar\n",
      "7 é impar\n",
      "9 é impar\n",
      "11 é impar\n",
      "13 é impar\n",
      "15 é impar\n",
      "17 é impar\n",
      "19 é impar\n",
      "21 é impar\n",
      "23 é impar\n",
      "25 é impar\n",
      "27 é impar\n",
      "29 é impar\n",
      "31 é impar\n",
      "33 é impar\n",
      "35 é impar\n",
      "37 é impar\n",
      "39 é impar\n",
      "41 é impar\n",
      "43 é impar\n",
      "45 é impar\n",
      "47 é impar\n",
      "49 é impar\n",
      "51 é impar\n",
      "53 é impar\n",
      "55 é impar\n",
      "57 é impar\n",
      "59 é impar\n",
      "61 é impar\n",
      "63 é impar\n",
      "65 é impar\n",
      "67 é impar\n",
      "69 é impar\n",
      "71 é impar\n",
      "73 é impar\n",
      "75 é impar\n",
      "77 é impar\n",
      "79 é impar\n",
      "81 é impar\n",
      "83 é impar\n",
      "85 é impar\n",
      "87 é impar\n",
      "89 é impar\n",
      "91 é impar\n",
      "93 é impar\n",
      "95 é impar\n",
      "97 é impar\n",
      "99 é impar\n"
     ]
    }
   ],
   "source": [
    "for i in range(100):\n",
    "    if i % 2 != 0:\n",
    "        print(\"{} é impar\".format(i))"
   ]
  },
  {
   "cell_type": "code",
   "execution_count": 10,
   "id": "f96119ec-2c98-4717-818e-8623aa947736",
   "metadata": {
    "scrolled": true,
    "tags": []
   },
   "outputs": [
    {
     "name": "stdout",
     "output_type": "stream",
     "text": [
      "0 é par\n",
      "1 é impar\n",
      "2 é par\n",
      "3 é impar\n",
      "4 é par\n",
      "5 é impar\n",
      "6 é par\n",
      "7 é impar\n",
      "8 é par\n",
      "9 é impar\n",
      "10 é par\n",
      "11 é impar\n",
      "12 é par\n",
      "13 é impar\n",
      "14 é par\n",
      "15 é impar\n",
      "16 é par\n",
      "17 é impar\n",
      "18 é par\n",
      "19 é impar\n",
      "20 é par\n",
      "21 é impar\n",
      "22 é par\n",
      "23 é impar\n",
      "24 é par\n",
      "25 é impar\n",
      "26 é par\n",
      "27 é impar\n",
      "28 é par\n",
      "29 é impar\n",
      "30 é par\n",
      "31 é impar\n",
      "32 é par\n",
      "33 é impar\n",
      "34 é par\n",
      "35 é impar\n",
      "36 é par\n",
      "37 é impar\n",
      "38 é par\n",
      "39 é impar\n",
      "40 é par\n",
      "41 é impar\n",
      "42 é par\n",
      "43 é impar\n",
      "44 é par\n",
      "45 é impar\n",
      "46 é par\n",
      "47 é impar\n",
      "48 é par\n",
      "49 é impar\n",
      "50 é par\n",
      "51 é impar\n",
      "52 é par\n",
      "53 é impar\n",
      "54 é par\n",
      "55 é impar\n",
      "56 é par\n",
      "57 é impar\n",
      "58 é par\n",
      "59 é impar\n",
      "60 é par\n",
      "61 é impar\n",
      "62 é par\n",
      "63 é impar\n",
      "64 é par\n",
      "65 é impar\n",
      "66 é par\n",
      "67 é impar\n",
      "68 é par\n",
      "69 é impar\n",
      "70 é par\n",
      "71 é impar\n",
      "72 é par\n",
      "73 é impar\n",
      "74 é par\n",
      "75 é impar\n",
      "76 é par\n",
      "77 é impar\n",
      "78 é par\n",
      "79 é impar\n",
      "80 é par\n",
      "81 é impar\n",
      "82 é par\n",
      "83 é impar\n",
      "84 é par\n",
      "85 é impar\n",
      "86 é par\n",
      "87 é impar\n",
      "88 é par\n",
      "89 é impar\n",
      "90 é par\n",
      "91 é impar\n",
      "92 é par\n",
      "93 é impar\n",
      "94 é par\n",
      "95 é impar\n",
      "96 é par\n",
      "97 é impar\n",
      "98 é par\n",
      "99 é impar\n"
     ]
    }
   ],
   "source": [
    "for i in range(100):\n",
    "    if i % 2 == 0:\n",
    "        print(\"{} é par\".format(i))\n",
    "    elif i % 2 != 0:\n",
    "        print(\"{} é impar\".format(i))"
   ]
  },
  {
   "cell_type": "code",
   "execution_count": null,
   "id": "7784c49a-d073-44d4-91ac-c2b63eaaca97",
   "metadata": {},
   "outputs": [],
   "source": []
  }
 ],
 "metadata": {
  "kernelspec": {
   "display_name": "Python 3 (ipykernel)",
   "language": "python",
   "name": "python3"
  },
  "language_info": {
   "codemirror_mode": {
    "name": "ipython",
    "version": 3
   },
   "file_extension": ".py",
   "mimetype": "text/x-python",
   "name": "python",
   "nbconvert_exporter": "python",
   "pygments_lexer": "ipython3",
   "version": "3.11.5"
  }
 },
 "nbformat": 4,
 "nbformat_minor": 5
}
