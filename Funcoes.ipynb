{
 "cells": [
  {
   "cell_type": "markdown",
   "id": "8ffe4eba-0f5a-4bc8-b315-21b75a31708f",
   "metadata": {},
   "source": [
    "## Funções"
   ]
  },
  {
   "cell_type": "code",
   "execution_count": 1,
   "id": "473ed742-e33f-41ac-9800-210aa33a85b0",
   "metadata": {
    "tags": []
   },
   "outputs": [
    {
     "data": {
      "text/plain": [
       "6"
      ]
     },
     "execution_count": 1,
     "metadata": {},
     "output_type": "execute_result"
    }
   ],
   "source": [
    "len(\"atring\")"
   ]
  },
  {
   "cell_type": "code",
   "execution_count": 2,
   "id": "2586ef8b-9643-48ca-94d1-d5e7f7dc916e",
   "metadata": {
    "tags": []
   },
   "outputs": [
    {
     "data": {
      "text/plain": [
       "3"
      ]
     },
     "execution_count": 2,
     "metadata": {},
     "output_type": "execute_result"
    }
   ],
   "source": [
    "len([1, 2, 3])"
   ]
  },
  {
   "cell_type": "code",
   "execution_count": 3,
   "id": "ed8c2ed4-3713-4785-98ab-528230d4734b",
   "metadata": {
    "tags": []
   },
   "outputs": [
    {
     "data": {
      "text/plain": [
       "range(0, 10)"
      ]
     },
     "execution_count": 3,
     "metadata": {},
     "output_type": "execute_result"
    }
   ],
   "source": [
    "range(10)"
   ]
  },
  {
   "cell_type": "code",
   "execution_count": 4,
   "id": "9b39a235-e7dc-4e88-804f-7eca22a0fade",
   "metadata": {
    "tags": []
   },
   "outputs": [],
   "source": [
    "def diga_ola():\n",
    "    a = 1\n",
    "    print(\"Olá\")"
   ]
  },
  {
   "cell_type": "code",
   "execution_count": 5,
   "id": "efb69ed1-b1e0-4009-98f5-334073212ee1",
   "metadata": {
    "tags": []
   },
   "outputs": [
    {
     "data": {
      "text/plain": [
       "<function __main__.diga_ola()>"
      ]
     },
     "execution_count": 5,
     "metadata": {},
     "output_type": "execute_result"
    }
   ],
   "source": [
    "diga_ola"
   ]
  },
  {
   "cell_type": "code",
   "execution_count": 6,
   "id": "0fbbe114-c35e-4d81-bc11-6ed87d63b833",
   "metadata": {
    "tags": []
   },
   "outputs": [
    {
     "name": "stdout",
     "output_type": "stream",
     "text": [
      "Olá\n"
     ]
    }
   ],
   "source": [
    "diga_ola()"
   ]
  },
  {
   "cell_type": "code",
   "execution_count": 7,
   "id": "9f854e88-e437-4e60-8f3c-0318cdbdb9d8",
   "metadata": {
    "tags": []
   },
   "outputs": [],
   "source": [
    "def diga_ola(nome):\n",
    "    a = 1\n",
    "    print(\"olá, {}.\".format(nome))"
   ]
  },
  {
   "cell_type": "code",
   "execution_count": 8,
   "id": "2881cab4-f788-4822-9306-a64942f4522d",
   "metadata": {
    "tags": []
   },
   "outputs": [
    {
     "ename": "TypeError",
     "evalue": "diga_ola() missing 1 required positional argument: 'nome'",
     "output_type": "error",
     "traceback": [
      "\u001b[1;31m---------------------------------------------------------------------------\u001b[0m",
      "\u001b[1;31mTypeError\u001b[0m                                 Traceback (most recent call last)",
      "Cell \u001b[1;32mIn[8], line 1\u001b[0m\n\u001b[1;32m----> 1\u001b[0m \u001b[43mdiga_ola\u001b[49m\u001b[43m(\u001b[49m\u001b[43m)\u001b[49m\n",
      "\u001b[1;31mTypeError\u001b[0m: diga_ola() missing 1 required positional argument: 'nome'"
     ]
    }
   ],
   "source": [
    "diga_ola()"
   ]
  },
  {
   "cell_type": "code",
   "execution_count": 9,
   "id": "9e7d3dba-7bd5-448c-8fcd-5c80b9eaf57a",
   "metadata": {
    "tags": []
   },
   "outputs": [
    {
     "name": "stdout",
     "output_type": "stream",
     "text": [
      "olá, Julia.\n"
     ]
    }
   ],
   "source": [
    "diga_ola(\"Julia\")"
   ]
  },
  {
   "cell_type": "code",
   "execution_count": 10,
   "id": "f475eedd-9e0e-448c-a21e-ae5aa0a53a9e",
   "metadata": {
    "tags": []
   },
   "outputs": [
    {
     "name": "stdout",
     "output_type": "stream",
     "text": [
      "olá, Djalma.\n"
     ]
    }
   ],
   "source": [
    "diga_ola(\"Djalma\")"
   ]
  },
  {
   "cell_type": "code",
   "execution_count": 11,
   "id": "7502218a-3813-45a1-b9f1-177b10d9b447",
   "metadata": {
    "tags": []
   },
   "outputs": [],
   "source": [
    "def gerador_de_numeros_impares(x):\n",
    "    return [i for i in range(x) if i % 2 == 1]"
   ]
  },
  {
   "cell_type": "code",
   "execution_count": 14,
   "id": "a8045b39-4373-4b15-a622-4fe9d875c54e",
   "metadata": {
    "scrolled": true,
    "tags": []
   },
   "outputs": [
    {
     "data": {
      "text/plain": [
       "[1, 3, 5, 7, 9, 11]"
      ]
     },
     "execution_count": 14,
     "metadata": {},
     "output_type": "execute_result"
    }
   ],
   "source": [
    "gerador_de_numeros_impares(12)"
   ]
  },
  {
   "cell_type": "code",
   "execution_count": 15,
   "id": "556b97df-487b-4eab-9e0d-017b08cab270",
   "metadata": {
    "tags": []
   },
   "outputs": [
    {
     "data": {
      "text/plain": [
       "list"
      ]
     },
     "execution_count": 15,
     "metadata": {},
     "output_type": "execute_result"
    }
   ],
   "source": [
    "type(gerador_de_numeros_impares(10))"
   ]
  },
  {
   "cell_type": "code",
   "execution_count": 18,
   "id": "b1bda191-4ef9-47ca-b725-eb5452f47636",
   "metadata": {
    "tags": []
   },
   "outputs": [
    {
     "data": {
      "text/plain": [
       "function"
      ]
     },
     "execution_count": 18,
     "metadata": {},
     "output_type": "execute_result"
    }
   ],
   "source": [
    "type(gerador_de_numeros_impares)"
   ]
  },
  {
   "cell_type": "code",
   "execution_count": 19,
   "id": "f8112ff9-352f-47a3-9563-945faacea217",
   "metadata": {
    "tags": []
   },
   "outputs": [],
   "source": [
    "def add_num(num1, num2):\n",
    "    return num1 + num2"
   ]
  },
  {
   "cell_type": "code",
   "execution_count": 20,
   "id": "122d2e37-0c5f-40ec-8d78-a522844231ee",
   "metadata": {
    "tags": []
   },
   "outputs": [
    {
     "data": {
      "text/plain": [
       "30"
      ]
     },
     "execution_count": 20,
     "metadata": {},
     "output_type": "execute_result"
    }
   ],
   "source": [
    "add_num(10, 20)"
   ]
  },
  {
   "cell_type": "markdown",
   "id": "485c428a-638d-4a79-9a15-7c32f3c89865",
   "metadata": {},
   "source": [
    "## Função lambda"
   ]
  },
  {
   "cell_type": "code",
   "execution_count": 21,
   "id": "d2daccda-7f35-4ec5-95fd-32cba84c5184",
   "metadata": {
    "tags": []
   },
   "outputs": [],
   "source": [
    "def elevar_ao_quadrado(x):\n",
    "    return x ** 2"
   ]
  },
  {
   "cell_type": "code",
   "execution_count": 22,
   "id": "12b9159d-ce0d-4340-b78b-c281df898b9d",
   "metadata": {
    "tags": []
   },
   "outputs": [
    {
     "data": {
      "text/plain": [
       "100"
      ]
     },
     "execution_count": 22,
     "metadata": {},
     "output_type": "execute_result"
    }
   ],
   "source": [
    "elevar_ao_quadrado(10)"
   ]
  },
  {
   "cell_type": "code",
   "execution_count": 23,
   "id": "dacb5215-f885-4513-8231-3c7bdad90c97",
   "metadata": {
    "tags": []
   },
   "outputs": [],
   "source": [
    "a = lambda x: x ** 2"
   ]
  },
  {
   "cell_type": "code",
   "execution_count": 24,
   "id": "74799219-196e-4e91-9ff3-0f77e3d6757c",
   "metadata": {
    "tags": []
   },
   "outputs": [
    {
     "data": {
      "text/plain": [
       "function"
      ]
     },
     "execution_count": 24,
     "metadata": {},
     "output_type": "execute_result"
    }
   ],
   "source": [
    "type(a)"
   ]
  },
  {
   "cell_type": "code",
   "execution_count": 25,
   "id": "f1f92cdc-ef5b-4d9f-a952-2e806a3b4f44",
   "metadata": {
    "tags": []
   },
   "outputs": [
    {
     "data": {
      "text/plain": [
       "100"
      ]
     },
     "execution_count": 25,
     "metadata": {},
     "output_type": "execute_result"
    }
   ],
   "source": [
    "a(10)"
   ]
  },
  {
   "cell_type": "code",
   "execution_count": null,
   "id": "3ed24774-27ca-48b2-90f3-09f41e1891ce",
   "metadata": {},
   "outputs": [],
   "source": []
  }
 ],
 "metadata": {
  "kernelspec": {
   "display_name": "Python 3 (ipykernel)",
   "language": "python",
   "name": "python3"
  },
  "language_info": {
   "codemirror_mode": {
    "name": "ipython",
    "version": 3
   },
   "file_extension": ".py",
   "mimetype": "text/x-python",
   "name": "python",
   "nbconvert_exporter": "python",
   "pygments_lexer": "ipython3",
   "version": "3.11.5"
  }
 },
 "nbformat": 4,
 "nbformat_minor": 5
}
