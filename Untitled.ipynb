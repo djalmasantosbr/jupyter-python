{
 "cells": [
  {
   "cell_type": "code",
   "execution_count": 1,
   "id": "09fe65a3-cf1c-4d94-a2ae-40ee1f056f64",
   "metadata": {
    "tags": []
   },
   "outputs": [],
   "source": [
    "escolha = {\n",
    "    \"0\": \"Mostrar portifólio\",\n",
    "    \"1\": \"Alugar um carro\",\n",
    "    \"2\": \"Devolver um carro\",\n",
    "}"
   ]
  },
  {
   "cell_type": "code",
   "execution_count": 2,
   "id": "295d8d0f-d38d-4cec-bb9d-9e1492c5ec32",
   "metadata": {
    "tags": []
   },
   "outputs": [
    {
     "data": {
      "text/plain": [
       "{'0': 'Mostrar portifólio', '1': 'Alugar um carro', '2': 'Devolver um carro'}"
      ]
     },
     "execution_count": 2,
     "metadata": {},
     "output_type": "execute_result"
    }
   ],
   "source": [
    "escolha"
   ]
  },
  {
   "cell_type": "code",
   "execution_count": 3,
   "id": "dea003ff-c0ae-4599-9c85-8d8aa5f01396",
   "metadata": {
    "tags": []
   },
   "outputs": [
    {
     "name": "stdout",
     "output_type": "stream",
     "text": [
      "0 : Mostrar portifólio\n",
      "1 : Alugar um carro\n",
      "2 : Devolver um carro\n"
     ]
    }
   ],
   "source": [
    "i = 0\n",
    "for op, escolha1 in escolha.items():\n",
    "    print(i, \":\", escolha1)\n",
    "    i +=1"
   ]
  },
  {
   "cell_type": "code",
   "execution_count": 8,
   "id": "33f450f8-e84a-44c3-ae2c-273ec7a19b6c",
   "metadata": {
    "tags": []
   },
   "outputs": [
    {
     "data": {
      "text/plain": [
       "('1', 'Alugar um carro')"
      ]
     },
     "execution_count": 8,
     "metadata": {},
     "output_type": "execute_result"
    }
   ],
   "source": [
    "list(escolha.items())[1]"
   ]
  },
  {
   "cell_type": "code",
   "execution_count": null,
   "id": "90eb8c69-3a51-48cb-bd55-9e4869b95dda",
   "metadata": {},
   "outputs": [],
   "source": []
  }
 ],
 "metadata": {
  "kernelspec": {
   "display_name": "Python 3 (ipykernel)",
   "language": "python",
   "name": "python3"
  },
  "language_info": {
   "codemirror_mode": {
    "name": "ipython",
    "version": 3
   },
   "file_extension": ".py",
   "mimetype": "text/x-python",
   "name": "python",
   "nbconvert_exporter": "python",
   "pygments_lexer": "ipython3",
   "version": "3.11.5"
  }
 },
 "nbformat": 4,
 "nbformat_minor": 5
}
