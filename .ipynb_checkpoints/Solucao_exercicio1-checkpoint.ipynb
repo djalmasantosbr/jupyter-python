{
 "cells": [
  {
   "cell_type": "markdown",
   "id": "1dda7706-827a-4cc3-b619-6fc685ff2d50",
   "metadata": {},
   "source": [
    "\n",
    "## Exercícios #1 - Estruturas de dados\n"
   ]
  },
  {
   "cell_type": "markdown",
   "id": "63d2ff23-ca93-4a1e-bc17-c9c1f2147768",
   "metadata": {},
   "source": [
    "### Exercício 1\n",
    "Utilizando o built-in method input(), crie um programa que receba a altura e o peso de uma pessoa e imprima na tela o IMC da mesma."
   ]
  },
  {
   "cell_type": "code",
   "execution_count": 2,
   "id": "33401a56-43fb-4836-8037-9cf04d952db5",
   "metadata": {
    "tags": []
   },
   "outputs": [
    {
     "name": "stdout",
     "output_type": "stream",
     "text": [
      "Bem vindo a calculadora IMC!\n",
      "Por favor, informe sua altura:\n"
     ]
    },
    {
     "name": "stdin",
     "output_type": "stream",
     "text": [
      " 1.52\n"
     ]
    },
    {
     "name": "stdout",
     "output_type": "stream",
     "text": [
      "Digite seu peso:\n"
     ]
    },
    {
     "name": "stdin",
     "output_type": "stream",
     "text": [
      " 85\n"
     ]
    },
    {
     "name": "stdout",
     "output_type": "stream",
     "text": [
      "Calculando....\n",
      "==============\n",
      "Seu IMC é: 36.79\n"
     ]
    }
   ],
   "source": [
    "# Peso / altura ** 2\n",
    "\n",
    "import time\n",
    "\n",
    "print(\"Bem vindo a calculadora IMC!\")\n",
    "print(\"Por favor, informe sua altura:\")\n",
    "altura = float(input())\n",
    "print(\"Digite seu peso:\")\n",
    "peso = float(input())\n",
    "\n",
    "print(\"Calculando....\")\n",
    "time.sleep(1)\n",
    "print(\"==============\")\n",
    "print(\"Seu IMC é: {:.2f}\".format(peso / altura ** 2))\n",
    "\n"
   ]
  },
  {
   "cell_type": "markdown",
   "id": "b0633043-5e93-4fff-92f7-53bce89370e9",
   "metadata": {},
   "source": [
    "### Exercício 2 \n",
    "Escreva um programa que pergunte o nome completo do usuário e cumprimente o mesmo pelo primeiro nome."
   ]
  },
  {
   "cell_type": "code",
   "execution_count": 4,
   "id": "0ddac61d-21fd-44ac-bc83-f844090c1024",
   "metadata": {
    "tags": []
   },
   "outputs": [
    {
     "name": "stdout",
     "output_type": "stream",
     "text": [
      "Digite seu nome completo\n"
     ]
    },
    {
     "name": "stdin",
     "output_type": "stream",
     "text": [
      " Djalma Lima Barbosa Santos\n"
     ]
    },
    {
     "name": "stdout",
     "output_type": "stream",
     "text": [
      "Ola Djalma!\n"
     ]
    }
   ],
   "source": [
    "print(\"Digite seu nome completo\")\n",
    "nome = input()\n",
    "primeiro_nome = nome.split()\n",
    "print(\"Ola {}!\".format(primeiro_nome[0]))"
   ]
  },
  {
   "cell_type": "markdown",
   "id": "9fb3df81-2c70-4462-a008-dd58d7998c06",
   "metadata": {},
   "source": [
    "\n",
    "### Exercício 3\n",
    "Desenho um código que extraia o domínio de um e-mail informado."
   ]
  },
  {
   "cell_type": "code",
   "execution_count": 6,
   "id": "1bc2715e-46a5-4b15-ab9a-58ea4d2f5eed",
   "metadata": {
    "tags": []
   },
   "outputs": [
    {
     "name": "stdout",
     "output_type": "stream",
     "text": [
      "Digite seu melhor e-mail:\n"
     ]
    },
    {
     "name": "stdin",
     "output_type": "stream",
     "text": [
      " maria@hotmail.com\n"
     ]
    },
    {
     "name": "stdout",
     "output_type": "stream",
     "text": [
      "O dominio informado foi: hotmail.com\n"
     ]
    }
   ],
   "source": [
    "print(\"Digite seu melhor e-mail:\")\n",
    "email = input()\n",
    "dominio = email.split('@')[-1]\n",
    "print(\"O dominio informado foi: {}\".format(dominio))"
   ]
  },
  {
   "cell_type": "markdown",
   "id": "b244a045-7c39-4665-b802-f66d11e7d1a2",
   "metadata": {},
   "source": [
    "### Exercício 4 \n",
    "Faça um programa para uma loja de tintas. A pessoa informa a área em m2 que deseja pintar, e o script calculará a quantidade de latas de tinta que a pessoa deve comprar e o valor. Considere que cada litro de tinta pinta 3m2, que cada lata contém 18L e que custa R$ 80."
   ]
  },
  {
   "cell_type": "code",
   "execution_count": null,
   "id": "1cbb9a50-c418-466d-8e5d-1728a20042d0",
   "metadata": {},
   "outputs": [],
   "source": [
    "print(\"====== LOJA DE TINTAS PELILIU ======\")\n",
    "print(\"infome a área em Metros Quadrado que deseja pintar:\")\n",
    "area_pintar = float(input())\n",
    "fator_tinta = 3.20\n",
    "lata = 18\n",
    "valor = 80.00\n",
    "r_area = area_pintar * fator_tinta\n",
    "print(\"Quantidades de latas: {}\".format())\n"
   ]
  }
 ],
 "metadata": {
  "kernelspec": {
   "display_name": "Python 3 (ipykernel)",
   "language": "python",
   "name": "python3"
  },
  "language_info": {
   "codemirror_mode": {
    "name": "ipython",
    "version": 3
   },
   "file_extension": ".py",
   "mimetype": "text/x-python",
   "name": "python",
   "nbconvert_exporter": "python",
   "pygments_lexer": "ipython3",
   "version": "3.11.5"
  }
 },
 "nbformat": 4,
 "nbformat_minor": 5
}
